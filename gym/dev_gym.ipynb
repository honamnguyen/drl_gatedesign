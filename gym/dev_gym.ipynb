{
 "cells": [
  {
   "cell_type": "markdown",
   "id": "37c8f6a0-3596-4679-9a06-00f299a5b1b6",
   "metadata": {
    "tags": []
   },
   "source": [
    "# transmon_cont_env"
   ]
  },
  {
   "cell_type": "code",
   "execution_count": 8,
   "id": "de15ad27-9d96-4a2e-9b5d-fe086d399ef0",
   "metadata": {},
   "outputs": [],
   "source": [
    "# copy file to modify here"
   ]
  },
  {
   "cell_type": "code",
   "execution_count": 1,
   "id": "6ec7776b-de52-486e-a2c6-70a1304e7819",
   "metadata": {},
   "outputs": [],
   "source": [
    "import gym\n",
    "import gym_transmon_cont\n",
    "from gym_utils import *"
   ]
  },
  {
   "cell_type": "markdown",
   "id": "e9a27fbc-072b-4321-b26f-46e033c3e441",
   "metadata": {},
   "source": [
    "# Two-qubit examples\n",
    "## sqrtZX - quspin"
   ]
  },
  {
   "cell_type": "code",
   "execution_count": 6,
   "id": "6fd6e985-8266-4fb7-b5f3-aad9e6f77127",
   "metadata": {},
   "outputs": [
    {
     "name": "stdout",
     "output_type": "stream",
     "text": [
      "---Initiating Transmon Environment with Continuous Action---\n",
      "-   Noiseless control\n"
     ]
    }
   ],
   "source": [
    "# physical setting\n",
    "sim_name = 'quspin'\n",
    "num_transmon = 2\n",
    "num_level = 3\n",
    "sim_frame_rotation = False\n",
    "drive = np.array([100*MHz, 14*MHz])\n",
    "detune = np.array([115*MHz, 0])\n",
    "anharm = np.array([-319.7*MHz, -320.2*MHz])\n",
    "coupling = np.array([1.87*MHz])\n",
    "ctrl_noise = 0\n",
    "\n",
    "# objective\n",
    "num_seg = 100\n",
    "duration = 224 #in ns\n",
    "duration_gauss = int(73/duration*num_seg)\n",
    "duration_const = int(115/duration*num_seg)\n",
    "duration_drag = int(36/duration*num_seg)\n",
    "dt = duration/num_seg*nanosec\n",
    "target_gate = 'sqrtZX'\n",
    "\n",
    "# state\n",
    "rl_state = 'ket'\n",
    "pca_order = (4,2)\n",
    "\n",
    "# reward\n",
    "reward_type = 'average'\n",
    "reward_scheme = 'local-fidelity-difference'\n",
    "fid_threshold = 0.999\n",
    "worstfid_method = 'SLSQP-ket-7'\n",
    "\n",
    "# action\n",
    "action_size = 4\n",
    "sub_action_scale = None\n",
    "end_amp_window = None\n",
    "evolve_method = 'exact'\n",
    "\n",
    "kw = initialize_transmon_env(sim_name,num_transmon, num_level, sim_frame_rotation,\n",
    "                             drive, detune, anharm, coupling, ctrl_noise,\n",
    "                             num_seg, dt, target_gate,\n",
    "                             rl_state, pca_order,\n",
    "                             reward_type, reward_scheme, fid_threshold, worstfid_method,\n",
    "                             action_size, sub_action_scale, end_amp_window, evolve_method)\n",
    "# env = ContinuousTransmonEnv(**kw)\n",
    "env = gym.make('transmon-cont-v7',**kw)"
   ]
  },
  {
   "cell_type": "code",
   "execution_count": 7,
   "id": "c455495d-0df0-4b6d-926f-8019d412896e",
   "metadata": {},
   "outputs": [
    {
     "data": {
      "image/png": "[encoded data removed]",
      "text/plain": [
       "<Figure size 720x216 with 2 Axes>"
      ]
     },
     "metadata": {
      "needs_background": "light"
     },
     "output_type": "display_data"
    },
    {
     "name": "stdout",
     "output_type": "stream",
     "text": [
      "-----------------------------------------------\n",
      "Average fidelity:    0.9941521407860391\n",
      "Worst case fidelity: 0.9899311848415232\n"
     ]
    },
    {
     "data": {
      "image/png": "[encoded data removed]",
      "text/plain": [
       "<Figure size 720x216 with 1 Axes>"
      ]
     },
     "metadata": {
      "needs_background": "light"
     },
     "output_type": "display_data"
    },
    {
     "name": "stdout",
     "output_type": "stream",
     "text": [
      "Max worst case fidelity: 0.990893315112999 at step 100\n"
     ]
    },
    {
     "data": {
      "text/plain": [
       "0.09351152570522347"
      ]
     },
     "execution_count": 7,
     "metadata": {},
     "output_type": "execute_result"
    }
   ],
   "source": [
    "# cross-resonance\n",
    "sig = 14.5/(duration/num_seg)\n",
    "amp = 1\n",
    "phase = 0\n",
    "\n",
    "x_gauss = np.linspace(0,duration_gauss,duration_gauss+1)\n",
    "x_const = np.ones(duration_const)\n",
    "cr1_pulse = cr1(x_gauss,x_const,amp,sig,phase)\n",
    "\n",
    "# drag\n",
    "sig = 7.3/(duration/num_seg)\n",
    "amp = -0.43\n",
    "beta = 0.4\n",
    "\n",
    "x_drag = np.linspace(0,duration_drag,duration_drag+1)\n",
    "drag_pulse = drag(x_drag,amp,beta,sig)\n",
    "\n",
    "# combine\n",
    "cr1_total_pulse = np.hstack([cr1_pulse,np.zeros_like(cr1_pulse)])\n",
    "drag_total_pulse = np.hstack([np.zeros_like(drag_pulse),drag_pulse])\n",
    "total_pulse = np.vstack([cr1_total_pulse,drag_total_pulse])\n",
    "\n",
    "channel_labels = ['control','target']\n",
    "plot_pulse(total_pulse,channel_labels)\n",
    "plt.show()\n",
    "\n",
    "# run environment\n",
    "env.step_params['reward_type'] = 'average'\n",
    "env.reset()\n",
    "avg_fids = []\n",
    "states = []\n",
    "for action in total_pulse:\n",
    "    state,reward,done,_ = env.step(action)\n",
    "    avg_fids.append(env.fid)\n",
    "    states.append(state)\n",
    "avg_fids = np.array(avg_fids)\n",
    "states = np.array(states)\n",
    "\n",
    "env.step_params['reward_type'] = 'worst'\n",
    "env.reset()\n",
    "worst_fids = []\n",
    "for action in total_pulse:\n",
    "    state,reward,done,_ = env.step(action)\n",
    "    worst_fids.append(env.fid)\n",
    "worst_fids = np.array(worst_fids)\n",
    "\n",
    "print('-----------------------------------------------')\n",
    "print(f'Average fidelity:    {avg_fids[-1]}')\n",
    "print(f'Worst case fidelity: {worst_fids[-1]}')\n",
    "\n",
    "plt.figure(figsize=(10,3))\n",
    "plt.plot(avg_fids,'o-',label='Average')\n",
    "plt.plot(worst_fids,'o-',label='Worst case')\n",
    "plt.xlabel('Time step')\n",
    "plt.ylabel('Fidelity')\n",
    "plt.legend()\n",
    "plt.show()\n",
    "print(f'Max worst case fidelity: {worst_fids.max()} at step {worst_fids.argmax()+1}')\n",
    "abs(total_pulse[1:]-total_pulse[:-1]).max()"
   ]
  },
  {
   "cell_type": "markdown",
   "id": "b13ffc3e-2498-48a3-b201-925a7641bfb3",
   "metadata": {},
   "source": [
    "## SWAP - TransmonDuffingSimulator"
   ]
  },
  {
   "cell_type": "code",
   "execution_count": 3,
   "id": "bd182236-bfce-4044-a6e2-9eb4e4002b84",
   "metadata": {},
   "outputs": [
    {
     "name": "stdout",
     "output_type": "stream",
     "text": [
      "---Initiating Transmon Environment with Continuous Action---\n",
      "-   Noiseless control\n"
     ]
    }
   ],
   "source": [
    "# physical setting\n",
    "sim_name = 'TransmonDuffingSimulator'\n",
    "num_transmon = 2\n",
    "num_level = 3\n",
    "sim_frame_rotation = False\n",
    "\n",
    "dt = 4*nanosec\n",
    "anharm   = 2*np.pi * np.array([-319.7,-320.2])*MHz\n",
    "drive    = 2*np.pi * np.array([30,300,30,300])*MHz\n",
    "detune   = 2*np.pi * np.array([115,0])*MHz\n",
    "coupling = 2*np.pi * np.array([1.87])*MHz\n",
    "ctrl_noise = 0\n",
    "\n",
    "# objective\n",
    "num_seg = 160\n",
    "target_gate = 'SWAP'\n",
    "\n",
    "# state\n",
    "rl_state = 'ket'\n",
    "pca_order = (4,2)\n",
    "\n",
    "# reward\n",
    "reward_type = 'average'\n",
    "reward_scheme = 'local-fidelity-difference'\n",
    "fid_threshold = 0.999\n",
    "worstfid_method = 'SLSQP-ket-7'\n",
    "\n",
    "# action\n",
    "action_size = 4\n",
    "sub_action_scale = None\n",
    "end_amp_window = None\n",
    "evolve_method = 'exact'\n",
    "\n",
    "kw = initialize_transmon_env(sim_name,num_transmon, num_level, sim_frame_rotation,\n",
    "                             drive, detune, anharm, coupling, ctrl_noise,\n",
    "                             num_seg, dt, target_gate,\n",
    "                             rl_state, pca_order,\n",
    "                             reward_type, reward_scheme, fid_threshold, worstfid_method,\n",
    "                             action_size, sub_action_scale, end_amp_window, evolve_method)\n",
    "env = gym.make('transmon-cont-v7',**kw)\n",
    "# env = ContinuousTransmonEnv(**kw)"
   ]
  },
  {
   "cell_type": "code",
   "execution_count": 4,
   "id": "4bcdb309-e552-49b8-89b5-7a580bc8e3bd",
   "metadata": {},
   "outputs": [
    {
     "name": "stdout",
     "output_type": "stream",
     "text": [
      "-----------------------------------------------\n",
      "Final fidelities\n",
      "  Average: 0.9885\n",
      "  Worst  : 0.9778\n",
      "Max worst-case fidelity: 0.9778 at step 160\n"
     ]
    },
    {
     "data": {
      "image/png": "[encoded data removed]",
      "text/plain": [
       "<Figure size 720x216 with 1 Axes>"
      ]
     },
     "metadata": {
      "needs_background": "light"
     },
     "output_type": "display_data"
    },
    {
     "name": "stdout",
     "output_type": "stream",
     "text": [
      "Max amp difference: 0.44\n"
     ]
    },
    {
     "data": {
      "image/png": "[encoded data removed]",
      "text/plain": [
       "<Figure size 720x432 with 4 Axes>"
      ]
     },
     "metadata": {
      "needs_background": "light"
     },
     "output_type": "display_data"
    }
   ],
   "source": [
    "# Saved optimized angles\n",
    "x_X90I = np.array([ 1.        ,  0.25705079, -0.46631134, -1.33888415])\n",
    "x_IX90 = np.array([ 0.71479103,  0.24319973, -0.41055427, -0.11303429])\n",
    "x_CNOT = np.array([ 0.45272866,  1.        ,  0.15123441, -0.15832501])\n",
    "x_SWAP = np.array([ 0.40192683, 1.60814476 ,  0.50891225, -1.31562956, \n",
    "                   -2.81163055, -3.13722026, -0.74656652])\n",
    "\n",
    "channel_labels = ['d0','u01','d1','d10']\n",
    "\n",
    "drag_pulse_0 = DRAG(5, *x_X90I[:-1])\n",
    "drag_pulse_1 = DRAG(5, *x_IX90[:-1])\n",
    "GS_pulse = GaussianSquare(50, *x_CNOT[:-1])\n",
    "\n",
    "cnot_pulse_1 = np.zeros([len(GS_pulse),8])\n",
    "cnot_pulse_1[:,2:4] = Z_shift(GS_pulse,x_SWAP[0])\n",
    "\n",
    "hh_pulse_1 = np.zeros([len(drag_pulse_0),8])\n",
    "hh_pulse_1[:, :2] = Z_shift(drag_pulse_0,x_SWAP[1])\n",
    "hh_pulse_1[:,4:6] = Z_shift(drag_pulse_1,x_SWAP[2])\n",
    "\n",
    "cnot_pulse_2 = np.zeros([len(GS_pulse),8])\n",
    "cnot_pulse_2[:,2:4] = Z_shift(GS_pulse,x_SWAP[3])\n",
    "\n",
    "hh_pulse_2 = np.zeros([len(drag_pulse_0),8])\n",
    "hh_pulse_2[:, :2] = Z_shift(drag_pulse_0,x_SWAP[4])\n",
    "hh_pulse_2[:,4:6] = Z_shift(drag_pulse_1,x_SWAP[5])\n",
    "\n",
    "cnot_pulse_3 = np.zeros([len(GS_pulse),8])\n",
    "cnot_pulse_3[:,2:4] = Z_shift(GS_pulse,x_SWAP[6])\n",
    "\n",
    "total_pulse = np.vstack([cnot_pulse_1,hh_pulse_1,\n",
    "                         cnot_pulse_2,hh_pulse_2,cnot_pulse_3])\n",
    "\n",
    "max_diff = abs(total_pulse[1:,:]-total_pulse[:-1,:]).max()\n",
    "\n",
    "# run environment\n",
    "env.step_params['reward_type'] = 'average'\n",
    "env.reset()\n",
    "avg_fids = []\n",
    "states = []\n",
    "for action in total_pulse:\n",
    "    state,reward,done,_ = env.step(action)\n",
    "    avg_fids.append(env.fid)\n",
    "    states.append(state)\n",
    "avg_fids = np.array(avg_fids)\n",
    "states = np.array(states)\n",
    "\n",
    "env.step_params['reward_type'] = 'worst'\n",
    "env.reset()\n",
    "worst_fids = []\n",
    "for action in total_pulse:\n",
    "    state,reward,done,_ = env.step(action)\n",
    "    worst_fids.append(env.fid)\n",
    "worst_fids = np.array(worst_fids)\n",
    "\n",
    "print('-----------------------------------------------')\n",
    "print('Final fidelities')\n",
    "print(f'  Average: {avg_fids[-1]:.4f}')\n",
    "print(f'  Worst  : {worst_fids[-1]:.4f}')\n",
    "print(f'Max worst-case fidelity: {worst_fids.max():.4f} at step {worst_fids.argmax()+1}')\n",
    "\n",
    "plt.figure(figsize=(10,3))\n",
    "plt.plot(avg_fids,'o-',label='Average')\n",
    "plt.plot(worst_fids,'o-',label='Worst case')\n",
    "plt.xlim([-int(0.1*len(total_pulse)),len(total_pulse)+int(0.1*len(total_pulse))])\n",
    "plt.xlabel('Time step')\n",
    "plt.ylabel('Fidelity')\n",
    "plt.legend()\n",
    "plt.grid()\n",
    "plt.show()\n",
    "\n",
    "print(f'Max amp difference: {max_diff:.2f}')\n",
    "plot_pulse(total_pulse,channel_labels)"
   ]
  },
  {
   "cell_type": "code",
   "execution_count": 28,
   "id": "a1ab9f0f-9dfa-4375-80b1-f1accec43966",
   "metadata": {},
   "outputs": [],
   "source": [
    "dFavg = avg_fids[1:]-avg_fids[:-1]\n",
    "Favg = (avg_fids[1:]+avg_fids[:-1])/2"
   ]
  },
  {
   "cell_type": "code",
   "execution_count": 36,
   "id": "e742cf9a-bd56-4c95-90ea-9aaf7ed5da0e",
   "metadata": {},
   "outputs": [
    {
     "data": {
      "text/plain": [
       "0.2218487496163564"
      ]
     },
     "execution_count": 36,
     "metadata": {},
     "output_type": "execute_result"
    }
   ],
   "source": []
  },
  {
   "cell_type": "code",
   "execution_count": 24,
   "id": "cfbac292-be5c-4a90-8987-e1e5ea7bee6d",
   "metadata": {},
   "outputs": [
    {
     "data": {
      "text/plain": [
       "0.9885823077527688"
      ]
     },
     "execution_count": 24,
     "metadata": {},
     "output_type": "execute_result"
    }
   ],
   "source": [
    "env.avg_fid+dFavg.sum()"
   ]
  },
  {
   "cell_type": "code",
   "execution_count": 25,
   "id": "680a582d-8f28-4451-9c29-2f9ffe5eb0cb",
   "metadata": {},
   "outputs": [
    {
     "data": {
      "text/plain": [
       "1.9382059050891387"
      ]
     },
     "execution_count": 25,
     "metadata": {},
     "output_type": "execute_result"
    }
   ],
   "source": [
    "NLI(avg_fids[-1])"
   ]
  },
  {
   "cell_type": "code",
   "execution_count": 43,
   "id": "bd110a6b-8cd3-476e-a0a6-76264766ffbc",
   "metadata": {},
   "outputs": [
    {
     "data": {
      "text/plain": [
       "1.8555099449465462"
      ]
     },
     "execution_count": 43,
     "metadata": {},
     "output_type": "execute_result"
    }
   ],
   "source": [
    "dNLI = dFavg/(1-Favg)/np.log(10)\n",
    "# dNLI = dFavg/(1-avg_fids[:-1])/np.log(10)\n",
    "NLI(env.avg_fid)+dNLI.sum()"
   ]
  },
  {
   "cell_type": "code",
   "execution_count": 44,
   "id": "a2ec0113-b671-49e0-946a-064ef714fd62",
   "metadata": {},
   "outputs": [
    {
     "data": {
      "text/plain": [
       "array([-1.69305281e-04, -9.52777832e-04, -2.48852522e-03, -7.86667357e-03,\n",
       "       -7.85925357e-03, -9.13594763e-03, -5.30975316e-02,  1.91252104e-02,\n",
       "       -5.30229162e-03, -3.34422551e-02,  1.27255088e-02,  3.38557481e-02,\n",
       "       -1.26934172e-02, -1.86572118e-02,  6.36151957e-04, -7.25551457e-03,\n",
       "        5.41101703e-03,  3.49849644e-02, -2.36924284e-02, -4.29224279e-02,\n",
       "        3.13535359e-02,  1.90782932e-02, -3.63264549e-02,  1.50473646e-02,\n",
       "        5.10942652e-04, -2.40983681e-02,  2.17646735e-02,  2.27112861e-02,\n",
       "       -2.53439668e-02, -2.40771428e-02,  2.79531505e-02, -6.67249033e-04,\n",
       "       -3.89494635e-02,  3.71523790e-02, -4.17328936e-03, -2.36180813e-02,\n",
       "        2.40643766e-02,  3.14508195e-03, -1.46900802e-02, -4.67639014e-03,\n",
       "        9.48744120e-03,  7.76531901e-03,  8.28318065e-03, -9.70135058e-04,\n",
       "        1.07611044e-03, -7.54750137e-03,  2.78544976e-03, -3.98426821e-03,\n",
       "        2.52267786e-03,  5.04687295e-03,  1.89313539e-02,  6.36558763e-03,\n",
       "        1.05894550e-02,  4.56082291e-03,  1.05337321e-03, -1.78795849e-03,\n",
       "        7.55936975e-04, -3.34608320e-03, -4.81949116e-03, -7.73769729e-04,\n",
       "       -1.35645506e-02, -4.17983046e-02,  8.39055300e-03,  1.05395914e-02,\n",
       "       -2.38963583e-02, -1.30888579e-02,  2.79941044e-02,  1.16622029e-02,\n",
       "       -4.18456955e-02,  4.08575018e-03,  1.56270135e-02, -1.59083010e-02,\n",
       "        3.99937224e-03,  2.37347458e-02, -1.62832357e-02,  1.49420111e-03,\n",
       "        1.86733385e-02, -1.46505028e-02, -1.82165227e-02,  3.88115027e-02,\n",
       "        2.23692553e-03, -4.22740503e-02,  2.42833189e-02,  3.84064281e-02,\n",
       "       -3.77210448e-02,  9.49062816e-03,  3.62613244e-02, -5.33847555e-02,\n",
       "        1.07458125e-04,  8.46615633e-02, -4.09657388e-02, -5.53569655e-02,\n",
       "        6.30889561e-02,  1.68594943e-02, -5.45149341e-02, -2.59531634e-02,\n",
       "        6.28743617e-02,  1.10871653e-01, -7.97597773e-02,  4.76898951e-02,\n",
       "       -2.67869095e-02,  2.03897372e-02, -1.26641174e-02,  8.68490815e-03,\n",
       "        1.17134005e-02,  2.88210781e-02, -9.83915502e-03, -2.17145903e-02,\n",
       "       -1.04625071e-02,  2.64825951e-04,  1.77169878e-05,  1.80633150e-03,\n",
       "       -2.30936543e-03,  2.46861978e-03, -1.21466716e-02, -6.03808791e-03,\n",
       "       -2.23353704e-02,  7.76876974e-03,  5.16893392e-03,  6.76124905e-03,\n",
       "        3.36128767e-03, -1.83743096e-03,  1.16845210e-02,  2.07059406e-02,\n",
       "        1.22826166e-02,  5.59038692e-03, -7.76224587e-03, -5.85375037e-03,\n",
       "        3.20212128e-02,  3.91933137e-02, -1.30303257e-02, -3.52728671e-02,\n",
       "        7.81291425e-03,  5.00771259e-02,  4.84653638e-02,  4.20466542e-03,\n",
       "       -6.02880304e-02, -2.47882149e-02,  8.66912818e-02,  9.99509438e-02,\n",
       "       -3.87316479e-02, -8.07499255e-02, -7.04092658e-03,  8.38257840e-02,\n",
       "        1.20104043e-01, -4.85641195e-03, -1.49847867e-01, -4.29989892e-02,\n",
       "        1.46772561e-01,  5.01278048e-02, -1.20992036e-01,  4.24743202e-01,\n",
       "        9.60223658e-02,  1.89188566e-01,  4.11315051e-01,  1.16002080e-01,\n",
       "        1.63083802e-01, -1.32014820e-02,  3.20980824e-02])"
      ]
     },
     "execution_count": 44,
     "metadata": {},
     "output_type": "execute_result"
    }
   ],
   "source": [
    "dNLI"
   ]
  }
 ],
 "metadata": {
  "kernelspec": {
   "display_name": "julius64",
   "language": "python",
   "name": "julius64"
  },
  "language_info": {
   "codemirror_mode": {
    "name": "ipython",
    "version": 3
   },
   "file_extension": ".py",
   "mimetype": "text/x-python",
   "name": "python",
   "nbconvert_exporter": "python",
   "pygments_lexer": "ipython3",
   "version": "3.9.7"
  }
 },
 "nbformat": 4,
 "nbformat_minor": 5
}
