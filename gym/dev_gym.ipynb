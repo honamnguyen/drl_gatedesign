{
 "cells": [
  {
   "cell_type": "markdown",
   "id": "37c8f6a0-3596-4679-9a06-00f299a5b1b6",
   "metadata": {
    "tags": []
   },
   "source": [
    "# transmon_cont_env"
   ]
  },
  {
   "cell_type": "code",
   "execution_count": 8,
   "id": "de15ad27-9d96-4a2e-9b5d-fe086d399ef0",
   "metadata": {},
   "outputs": [],
   "source": [
    "# copy file to modify here"
   ]
  },
  {
   "cell_type": "code",
   "execution_count": 1,
   "id": "6ec7776b-de52-486e-a2c6-70a1304e7819",
   "metadata": {},
   "outputs": [],
   "source": [
    "import gym\n",
    "import gym_transmon_cont\n",
    "from gym_utils import *"
   ]
  },
  {
   "cell_type": "markdown",
   "id": "e9a27fbc-072b-4321-b26f-46e033c3e441",
   "metadata": {},
   "source": [
    "# Two-qubit examples\n",
    "## sqrtZX - quspin"
   ]
  },
  {
   "cell_type": "code",
   "execution_count": 6,
   "id": "6fd6e985-8266-4fb7-b5f3-aad9e6f77127",
   "metadata": {},
   "outputs": [
    {
     "name": "stdout",
     "output_type": "stream",
     "text": [
      "---Initiating Transmon Environment with Continuous Action---\n",
      "-   Noiseless control\n"
     ]
    }
   ],
   "source": [
    "# physical setting\n",
    "sim_name = 'quspin'\n",
    "num_transmon = 2\n",
    "num_level = 3\n",
    "sim_frame_rotation = False\n",
    "drive = np.array([100*MHz, 14*MHz])\n",
    "detune = np.array([115*MHz, 0])\n",
    "anharm = np.array([-319.7*MHz, -320.2*MHz])\n",
    "coupling = np.array([1.87*MHz])\n",
    "ctrl_noise = 0\n",
    "\n",
    "# objective\n",
    "num_seg = 100\n",
    "duration = 224 #in ns\n",
    "duration_gauss = int(73/duration*num_seg)\n",
    "duration_const = int(115/duration*num_seg)\n",
    "duration_drag = int(36/duration*num_seg)\n",
    "dt = duration/num_seg*nanosec\n",
    "target_gate = 'sqrtZX'\n",
    "\n",
    "# state\n",
    "rl_state = 'ket'\n",
    "pca_order = (4,2)\n",
    "\n",
    "# reward\n",
    "reward_type = 'average'\n",
    "reward_scheme = 'local-fidelity-difference'\n",
    "fid_threshold = 0.999\n",
    "worstfid_method = 'SLSQP-ket-7'\n",
    "\n",
    "# action\n",
    "action_size = 4\n",
    "sub_action_scale = None\n",
    "end_amp_window = None\n",
    "evolve_method = 'exact'\n",
    "\n",
    "kw = initialize_transmon_env(sim_name,num_transmon, num_level, sim_frame_rotation,\n",
    "                             drive, detune, anharm, coupling, ctrl_noise,\n",
    "                             num_seg, dt, target_gate,\n",
    "                             rl_state, pca_order,\n",
    "                             reward_type, reward_scheme, fid_threshold, worstfid_method,\n",
    "                             action_size, sub_action_scale, end_amp_window, evolve_method)\n",
    "# env = ContinuousTransmonEnv(**kw)\n",
    "env = gym.make('transmon-cont-v7',**kw)"
   ]
  },
  {
   "cell_type": "code",
   "execution_count": 7,
   "id": "c455495d-0df0-4b6d-926f-8019d412896e",
   "metadata": {},
   "outputs": [
    {
     "data": {
      "image/png": "[encoded data removed]",
      "text/plain": [
       "<Figure size 720x216 with 2 Axes>"
      ]
     },
     "metadata": {
      "needs_background": "light"
     },
     "output_type": "display_data"
    },
    {
     "name": "stdout",
     "output_type": "stream",
     "text": [
      "-----------------------------------------------\n",
      "Average fidelity:    0.9941521407860391\n",
      "Worst case fidelity: 0.9899311848415232\n"
     ]
    },
    {
     "data": {
      "image/png": "[encoded data removed]",
      "text/plain": [
       "<Figure size 720x216 with 1 Axes>"
      ]
     },
     "metadata": {
      "needs_background": "light"
     },
     "output_type": "display_data"
    },
    {
     "name": "stdout",
     "output_type": "stream",
     "text": [
      "Max worst case fidelity: 0.990893315112999 at step 100\n"
     ]
    },
    {
     "data": {
      "text/plain": [
       "0.09351152570522347"
      ]
     },
     "execution_count": 7,
     "metadata": {},
     "output_type": "execute_result"
    }
   ],
   "source": [
    "# cross-resonance\n",
    "sig = 14.5/(duration/num_seg)\n",
    "amp = 1\n",
    "phase = 0\n",
    "\n",
    "x_gauss = np.linspace(0,duration_gauss,duration_gauss+1)\n",
    "x_const = np.ones(duration_const)\n",
    "cr1_pulse = cr1(x_gauss,x_const,amp,sig,phase)\n",
    "\n",
    "# drag\n",
    "sig = 7.3/(duration/num_seg)\n",
    "amp = -0.43\n",
    "beta = 0.4\n",
    "\n",
    "x_drag = np.linspace(0,duration_drag,duration_drag+1)\n",
    "drag_pulse = drag(x_drag,amp,beta,sig)\n",
    "\n",
    "# combine\n",
    "cr1_total_pulse = np.hstack([cr1_pulse,np.zeros_like(cr1_pulse)])\n",
    "drag_total_pulse = np.hstack([np.zeros_like(drag_pulse),drag_pulse])\n",
    "total_pulse = np.vstack([cr1_total_pulse,drag_total_pulse])\n",
    "\n",
    "channel_labels = ['control','target']\n",
    "plot_pulse(total_pulse,channel_labels)\n",
    "plt.show()\n",
    "\n",
    "# run environment\n",
    "env.step_params['reward_type'] = 'average'\n",
    "env.reset()\n",
    "avg_fids = []\n",
    "states = []\n",
    "for action in total_pulse:\n",
    "    state,reward,done,_ = env.step(action)\n",
    "    avg_fids.append(env.fid)\n",
    "    states.append(state)\n",
    "avg_fids = np.array(avg_fids)\n",
    "states = np.array(states)\n",
    "\n",
    "env.step_params['reward_type'] = 'worst'\n",
    "env.reset()\n",
    "worst_fids = []\n",
    "for action in total_pulse:\n",
    "    state,reward,done,_ = env.step(action)\n",
    "    worst_fids.append(env.fid)\n",
    "worst_fids = np.array(worst_fids)\n",
    "\n",
    "print('-----------------------------------------------')\n",
    "print(f'Average fidelity:    {avg_fids[-1]}')\n",
    "print(f'Worst case fidelity: {worst_fids[-1]}')\n",
    "\n",
    "plt.figure(figsize=(10,3))\n",
    "plt.plot(avg_fids,'o-',label='Average')\n",
    "plt.plot(worst_fids,'o-',label='Worst case')\n",
    "plt.xlabel('Time step')\n",
    "plt.ylabel('Fidelity')\n",
    "plt.legend()\n",
    "plt.show()\n",
    "print(f'Max worst case fidelity: {worst_fids.max()} at step {worst_fids.argmax()+1}')\n",
    "abs(total_pulse[1:]-total_pulse[:-1]).max()"
   ]
  },
  {
   "cell_type": "markdown",
   "id": "687a97af-00f0-42d6-b1b7-a8aed53f00b5",
   "metadata": {
    "tags": []
   },
   "source": [
    "## sqrtZX - TransmonDuffingSimulator"
   ]
  },
  {
   "cell_type": "code",
   "execution_count": 2,
   "id": "b532c3ea-416f-44b7-bd59-2ad256435006",
   "metadata": {},
   "outputs": [
    {
     "name": "stdout",
     "output_type": "stream",
     "text": [
      "---Initiating Transmon Environment with Continuous Action---\n",
      "-   Noiseless control\n"
     ]
    }
   ],
   "source": [
    "# physical setting\n",
    "sim_name = 'TransmonDuffingSimulator'\n",
    "num_transmon = 2\n",
    "num_level = 3\n",
    "sim_frame_rotation = False\n",
    "\n",
    "anharm   = 2*np.pi * np.array([-319.7,-320.2])*MHz\n",
    "drive    = 2*np.pi * np.array([28,200,28,200])*MHz\n",
    "detune   = 2*np.pi * np.array([115,0])*MHz\n",
    "coupling = 2*np.pi * np.array([1.87])*MHz\n",
    "\n",
    "ctrl_noise = 0\n",
    "\n",
    "# objective\n",
    "num_seg = 100\n",
    "duration = 224 #in ns\n",
    "duration_gauss = int(73/duration*num_seg)\n",
    "duration_const = int(115/duration*num_seg)\n",
    "duration_drag = int(36/duration*num_seg)\n",
    "dt = duration/num_seg*nanosec\n",
    "target_gate = 'sqrtZX'\n",
    "\n",
    "# state\n",
    "rl_state = 'ket'\n",
    "pca_order = (4,2)\n",
    "\n",
    "# reward\n",
    "reward_type = 'average'\n",
    "reward_scheme = 'local-fidelity-difference'\n",
    "fid_threshold = 0.999\n",
    "worstfid_method = 'SLSQP-ket-7'\n",
    "\n",
    "# action\n",
    "channels = [2,3,4,5]\n",
    "sub_action_scale = None\n",
    "end_amp_window = None\n",
    "evolve_method = 'exact'\n",
    "\n",
    "kw = initialize_transmon_env(sim_name,num_transmon, num_level, sim_frame_rotation,\n",
    "                             drive, detune, anharm, coupling, ctrl_noise,\n",
    "                             num_seg, dt, target_gate,\n",
    "                             rl_state, pca_order,\n",
    "                             reward_type, reward_scheme, fid_threshold, worstfid_method,\n",
    "                             channels, sub_action_scale, end_amp_window, evolve_method)\n",
    "# env = ContinuousTransmonEnv(**kw)\n",
    "env = gym.make('transmon-cont-v7',**kw)"
   ]
  },
  {
   "cell_type": "code",
   "execution_count": 3,
   "id": "7f39c960-8684-4f87-8b5c-853115f3f9cc",
   "metadata": {},
   "outputs": [
    {
     "data": {
      "image/png": "[encoded data removed]",
      "text/plain": [
       "<Figure size 720x216 with 2 Axes>"
      ]
     },
     "metadata": {
      "needs_background": "light"
     },
     "output_type": "display_data"
    },
    {
     "name": "stdout",
     "output_type": "stream",
     "text": [
      "-----------------------------------------------\n",
      "Average fidelity:    0.9941521407860294\n",
      "Worst case fidelity: 0.9902670339452255\n"
     ]
    },
    {
     "data": {
      "image/png": "[encoded data removed]",
      "text/plain": [
       "<Figure size 720x216 with 1 Axes>"
      ]
     },
     "metadata": {
      "needs_background": "light"
     },
     "output_type": "display_data"
    },
    {
     "name": "stdout",
     "output_type": "stream",
     "text": [
      "Max worst case fidelity: 0.9908957980764921 at step 100\n"
     ]
    },
    {
     "data": {
      "text/plain": [
       "0.09351152570522347"
      ]
     },
     "execution_count": 3,
     "metadata": {},
     "output_type": "execute_result"
    }
   ],
   "source": [
    "# cross-resonance\n",
    "sig = 14.5/(duration/num_seg)\n",
    "amp = 1\n",
    "phase = 0\n",
    "\n",
    "x_gauss = np.linspace(0,duration_gauss,duration_gauss+1)\n",
    "x_const = np.ones(duration_const)\n",
    "cr1_pulse = cr1(x_gauss,x_const,amp,sig,phase)\n",
    "\n",
    "# drag\n",
    "sig = 7.3/(duration/num_seg)\n",
    "amp = -0.43\n",
    "beta = 0.4\n",
    "\n",
    "x_drag = np.linspace(0,duration_drag,duration_drag+1)\n",
    "drag_pulse = drag(x_drag,amp,beta,sig)\n",
    "\n",
    "# combine\n",
    "cr1_total_pulse = np.hstack([cr1_pulse,np.zeros_like(cr1_pulse)])\n",
    "drag_total_pulse = np.hstack([np.zeros_like(drag_pulse),drag_pulse])\n",
    "total_pulse = np.vstack([cr1_total_pulse,drag_total_pulse])\n",
    "\n",
    "channel_labels = ['control','target']\n",
    "plot_pulse(total_pulse,channel_labels)\n",
    "plt.show()\n",
    "\n",
    "# run environment\n",
    "env.step_params['reward_type'] = 'average'\n",
    "env.reset()\n",
    "avg_fids = []\n",
    "states = []\n",
    "for action in total_pulse:\n",
    "    state,reward,done,_ = env.step(action)\n",
    "    avg_fids.append(env.fid)\n",
    "    states.append(state)\n",
    "avg_fids = np.array(avg_fids)\n",
    "states = np.array(states)\n",
    "\n",
    "env.step_params['reward_type'] = 'worst'\n",
    "env.reset()\n",
    "worst_fids = []\n",
    "for action in total_pulse:\n",
    "    state,reward,done,_ = env.step(action)\n",
    "    worst_fids.append(env.fid)\n",
    "worst_fids = np.array(worst_fids)\n",
    "\n",
    "print('-----------------------------------------------')\n",
    "print(f'Average fidelity:    {avg_fids[-1]}')\n",
    "print(f'Worst case fidelity: {worst_fids[-1]}')\n",
    "\n",
    "plt.figure(figsize=(10,3))\n",
    "plt.plot(avg_fids,'o-',label='Average')\n",
    "plt.plot(worst_fids,'o-',label='Worst case')\n",
    "plt.xlabel('Time step')\n",
    "plt.ylabel('Fidelity')\n",
    "plt.legend()\n",
    "plt.show()\n",
    "print(f'Max worst case fidelity: {worst_fids.max()} at step {worst_fids.argmax()+1}')\n",
    "abs(total_pulse[1:]-total_pulse[:-1]).max()"
   ]
  },
  {
   "cell_type": "markdown",
   "id": "b13ffc3e-2498-48a3-b201-925a7641bfb3",
   "metadata": {},
   "source": [
    "## SWAP - TransmonDuffingSimulator"
   ]
  },
  {
   "cell_type": "code",
   "execution_count": 2,
   "id": "bd182236-bfce-4044-a6e2-9eb4e4002b84",
   "metadata": {},
   "outputs": [
    {
     "name": "stdout",
     "output_type": "stream",
     "text": [
      "---Initiating Transmon Environment with Continuous Action---\n",
      "-   Noiseless control\n"
     ]
    }
   ],
   "source": [
    "# physical setting\n",
    "sim_name = 'TransmonDuffingSimulator'\n",
    "num_transmon = 2\n",
    "num_level = 3\n",
    "sim_frame_rotation = False\n",
    "\n",
    "dt = 4*nanosec\n",
    "anharm   = 2*np.pi * np.array([-319.7,-320.2])*MHz\n",
    "drive    = 2*np.pi * np.array([30,300,30,300])*MHz\n",
    "detune   = 2*np.pi * np.array([115,0])*MHz\n",
    "coupling = 2*np.pi * np.array([1.87])*MHz\n",
    "ctrl_noise = 0\n",
    "\n",
    "# objective\n",
    "num_seg = 160\n",
    "target_gate = 'SWAP'\n",
    "\n",
    "# state\n",
    "rl_state = 'ket'\n",
    "pca_order = (4,2)\n",
    "\n",
    "# reward\n",
    "reward_type = 'average'\n",
    "reward_scheme = 'local-fidelity-difference'\n",
    "fid_threshold = 0.999\n",
    "worstfid_method = 'SLSQP-ket-7'\n",
    "\n",
    "# action\n",
    "channels = list(range(8))\n",
    "# action_size = 8\n",
    "sub_action_scale = None\n",
    "end_amp_window = None\n",
    "evolve_method = 'exact'\n",
    "\n",
    "kw = initialize_transmon_env(sim_name,num_transmon, num_level, sim_frame_rotation,\n",
    "                             drive, detune, anharm, coupling, ctrl_noise,\n",
    "                             num_seg, dt, target_gate,\n",
    "                             rl_state, pca_order,\n",
    "                             reward_type, reward_scheme, fid_threshold, worstfid_method,\n",
    "                             channels, sub_action_scale, end_amp_window, evolve_method)\n",
    "env = gym.make('transmon-cont-v7',**kw)\n",
    "# env = ContinuousTransmonEnv(**kw)"
   ]
  },
  {
   "cell_type": "code",
   "execution_count": 3,
   "id": "4bcdb309-e552-49b8-89b5-7a580bc8e3bd",
   "metadata": {},
   "outputs": [
    {
     "name": "stdout",
     "output_type": "stream",
     "text": [
      "-----------------------------------------------\n",
      "Final fidelities\n",
      "  Average: 0.9885\n",
      "  Worst  : 0.9778\n",
      "Max worst-case fidelity: 0.9778 at step 160\n"
     ]
    },
    {
     "data": {
      "image/png": "[encoded data removed]",
      "text/plain": [
       "<Figure size 720x216 with 1 Axes>"
      ]
     },
     "metadata": {
      "needs_background": "light"
     },
     "output_type": "display_data"
    },
    {
     "name": "stdout",
     "output_type": "stream",
     "text": [
      "Max amp difference: 0.44\n"
     ]
    },
    {
     "data": {
      "image/png": "[encoded data removed]",
      "text/plain": [
       "<Figure size 720x432 with 4 Axes>"
      ]
     },
     "metadata": {
      "needs_background": "light"
     },
     "output_type": "display_data"
    }
   ],
   "source": [
    "# Saved optimized angles\n",
    "x_X90I = np.array([ 1.        ,  0.25705079, -0.46631134, -1.33888415])\n",
    "x_IX90 = np.array([ 0.71479103,  0.24319973, -0.41055427, -0.11303429])\n",
    "x_CNOT = np.array([ 0.45272866,  1.        ,  0.15123441, -0.15832501])\n",
    "x_SWAP = np.array([ 0.40192683, 1.60814476 ,  0.50891225, -1.31562956, \n",
    "                   -2.81163055, -3.13722026, -0.74656652])\n",
    "\n",
    "channel_labels = ['d0','u01','d1','d10']\n",
    "\n",
    "drag_pulse_0 = DRAG(5, *x_X90I[:-1])\n",
    "drag_pulse_1 = DRAG(5, *x_IX90[:-1])\n",
    "GS_pulse = GaussianSquare(50, *x_CNOT[:-1])\n",
    "\n",
    "cnot_pulse_1 = np.zeros([len(GS_pulse),8])\n",
    "cnot_pulse_1[:,2:4] = Z_shift(GS_pulse,x_SWAP[0])\n",
    "\n",
    "hh_pulse_1 = np.zeros([len(drag_pulse_0),8])\n",
    "hh_pulse_1[:, :2] = Z_shift(drag_pulse_0,x_SWAP[1])\n",
    "hh_pulse_1[:,4:6] = Z_shift(drag_pulse_1,x_SWAP[2])\n",
    "\n",
    "cnot_pulse_2 = np.zeros([len(GS_pulse),8])\n",
    "cnot_pulse_2[:,2:4] = Z_shift(GS_pulse,x_SWAP[3])\n",
    "\n",
    "hh_pulse_2 = np.zeros([len(drag_pulse_0),8])\n",
    "hh_pulse_2[:, :2] = Z_shift(drag_pulse_0,x_SWAP[4])\n",
    "hh_pulse_2[:,4:6] = Z_shift(drag_pulse_1,x_SWAP[5])\n",
    "\n",
    "cnot_pulse_3 = np.zeros([len(GS_pulse),8])\n",
    "cnot_pulse_3[:,2:4] = Z_shift(GS_pulse,x_SWAP[6])\n",
    "\n",
    "total_pulse = np.vstack([cnot_pulse_1,hh_pulse_1,\n",
    "                         cnot_pulse_2,hh_pulse_2,cnot_pulse_3])\n",
    "\n",
    "max_diff = abs(total_pulse[1:,:]-total_pulse[:-1,:]).max()\n",
    "\n",
    "# run environment\n",
    "env.step_params['reward_type'] = 'average'\n",
    "env.reset()\n",
    "avg_fids = []\n",
    "states = []\n",
    "for action in total_pulse:\n",
    "    state,reward,done,_ = env.step(action)\n",
    "    avg_fids.append(env.fid)\n",
    "    states.append(state)\n",
    "avg_fids = np.array(avg_fids)\n",
    "states = np.array(states)\n",
    "\n",
    "env.step_params['reward_type'] = 'worst'\n",
    "env.reset()\n",
    "worst_fids = []\n",
    "for action in total_pulse:\n",
    "    state,reward,done,_ = env.step(action)\n",
    "    worst_fids.append(env.fid)\n",
    "worst_fids = np.array(worst_fids)\n",
    "\n",
    "print('-----------------------------------------------')\n",
    "print('Final fidelities')\n",
    "print(f'  Average: {avg_fids[-1]:.4f}')\n",
    "print(f'  Worst  : {worst_fids[-1]:.4f}')\n",
    "print(f'Max worst-case fidelity: {worst_fids.max():.4f} at step {worst_fids.argmax()+1}')\n",
    "\n",
    "plt.figure(figsize=(10,3))\n",
    "plt.plot(avg_fids,'o-',label='Average')\n",
    "plt.plot(worst_fids,'o-',label='Worst case')\n",
    "plt.xlim([-int(0.1*len(total_pulse)),len(total_pulse)+int(0.1*len(total_pulse))])\n",
    "plt.xlabel('Time step')\n",
    "plt.ylabel('Fidelity')\n",
    "plt.legend()\n",
    "plt.grid()\n",
    "plt.show()\n",
    "\n",
    "print(f'Max amp difference: {max_diff:.2f}')\n",
    "plot_pulse(total_pulse,channel_labels)"
   ]
  },
  {
   "cell_type": "code",
   "execution_count": 8,
   "id": "575e06f1-71f2-4a20-b1c6-485b087f1772",
   "metadata": {},
   "outputs": [
    {
     "data": {
      "text/plain": [
       "2.47850587150676"
      ]
     },
     "execution_count": 8,
     "metadata": {},
     "output_type": "execute_result"
    }
   ],
   "source": [
    "(0.99**19)*3"
   ]
  },
  {
   "cell_type": "code",
   "execution_count": 18,
   "id": "b242cb67-71a5-4ea9-8a0b-301091279979",
   "metadata": {},
   "outputs": [
    {
     "data": {
      "text/plain": [
       "19.999999999999982"
      ]
     },
     "execution_count": 18,
     "metadata": {},
     "output_type": "execute_result"
    }
   ],
   "source": [
    "gamma = 0.95\n",
    "1/(1-gamma)"
   ]
  },
  {
   "cell_type": "code",
   "execution_count": 4,
   "id": "23c98dfa-cd61-4ce3-a1d4-9f9295ab9e54",
   "metadata": {},
   "outputs": [],
   "source": [
    "import tensorboardX"
   ]
  },
  {
   "cell_type": "code",
   "execution_count": 67,
   "id": "a1ab9f0f-9dfa-4375-80b1-f1accec43966",
   "metadata": {},
   "outputs": [
    {
     "name": "stdout",
     "output_type": "stream",
     "text": [
      "0.9884709348088542\n"
     ]
    },
    {
     "data": {
      "text/plain": [
       "0.9884709348088542"
      ]
     },
     "execution_count": 67,
     "metadata": {},
     "output_type": "execute_result"
    }
   ],
   "source": [
    "dFavg = avg_fids-np.hstack([[env.avg_fid],avg_fids[:-1]])\n",
    "env.reset()\n",
    "print(avg_fids[-1])\n",
    "env.avg_fid+dFavg.sum()"
   ]
  },
  {
   "cell_type": "code",
   "execution_count": 69,
   "id": "e742cf9a-bd56-4c95-90ea-9aaf7ed5da0e",
   "metadata": {},
   "outputs": [
    {
     "name": "stdout",
     "output_type": "stream",
     "text": [
      "1.9382059050891387\n"
     ]
    },
    {
     "data": {
      "text/plain": [
       "1.9382059050891387"
      ]
     },
     "execution_count": 69,
     "metadata": {},
     "output_type": "execute_result"
    }
   ],
   "source": [
    "dNLI = NLI(avg_fids)-NLI(np.hstack([[env.avg_fid],avg_fids[:-1]]))\n",
    "print(NLI(avg_fids[-1]))\n",
    "NLI(env.avg_fid)+dNLI.sum()"
   ]
  },
  {
   "cell_type": "code",
   "execution_count": 47,
   "id": "66e52178-c020-49fe-a454-6bd15158adc7",
   "metadata": {},
   "outputs": [
    {
     "data": {
      "text/plain": [
       "0.4"
      ]
     },
     "execution_count": 47,
     "metadata": {},
     "output_type": "execute_result"
    }
   ],
   "source": [
    "env.avg_fid"
   ]
  },
  {
   "cell_type": "code",
   "execution_count": 44,
   "id": "cfbac292-be5c-4a90-8987-e1e5ea7bee6d",
   "metadata": {},
   "outputs": [
    {
     "data": {
      "text/plain": [
       "0.9885823077527688"
      ]
     },
     "execution_count": 44,
     "metadata": {},
     "output_type": "execute_result"
    }
   ],
   "source": []
  },
  {
   "cell_type": "code",
   "execution_count": 25,
   "id": "680a582d-8f28-4451-9c29-2f9ffe5eb0cb",
   "metadata": {},
   "outputs": [
    {
     "data": {
      "text/plain": [
       "1.9382059050891387"
      ]
     },
     "execution_count": 25,
     "metadata": {},
     "output_type": "execute_result"
    }
   ],
   "source": [
    "NLI(avg_fids[-1])"
   ]
  },
  {
   "cell_type": "code",
   "execution_count": 50,
   "id": "bd110a6b-8cd3-476e-a0a6-76264766ffbc",
   "metadata": {},
   "outputs": [
    {
     "data": {
      "text/plain": [
       "1.8555099449465462"
      ]
     },
     "execution_count": 50,
     "metadata": {},
     "output_type": "execute_result"
    }
   ],
   "source": [
    "dNLI = dFavg/(1-Favg)/np.log(10)\n",
    "# dNLI = dFavg/(1-avg_fids[:-1])/np.log(10)\n",
    "NLI(env.avg_fid)+dNLI.sum()"
   ]
  },
  {
   "cell_type": "code",
   "execution_count": 57,
   "id": "6cd67438-a878-446f-b9a5-7afbb552dd75",
   "metadata": {},
   "outputs": [
    {
     "name": "stdout",
     "output_type": "stream",
     "text": [
      "0.9884709348088542\n"
     ]
    },
    {
     "data": {
      "text/plain": [
       "1.9382059050891387"
      ]
     },
     "execution_count": 57,
     "metadata": {},
     "output_type": "execute_result"
    }
   ],
   "source": [
    "print(avg_fids[-1])\n",
    "NLI(avg_fids[-1])"
   ]
  },
  {
   "cell_type": "code",
   "execution_count": 58,
   "id": "97a17c4c-4732-4333-befc-d2ddcbab47e9",
   "metadata": {},
   "outputs": [
    {
     "data": {
      "text/plain": [
       "1.9382865120331354"
      ]
     },
     "execution_count": 58,
     "metadata": {},
     "output_type": "execute_result"
    }
   ],
   "source": [
    "dNLI = NLI(avg_fids)[1:]-NLI(avg_fids)[:-1]\n",
    "NLI(env.avg_fid)+dNLI.sum()"
   ]
  },
  {
   "cell_type": "code",
   "execution_count": 59,
   "id": "b0badbbc-689f-4841-a2f0-d18d8cd236d9",
   "metadata": {},
   "outputs": [
    {
     "data": {
      "text/plain": [
       "[<matplotlib.lines.Line2D at 0x7fe2a14387c0>]"
      ]
     },
     "execution_count": 59,
     "metadata": {},
     "output_type": "execute_result"
    },
    {
     "data": {
      "image/png": "[encoded data removed]",
      "text/plain": [
       "<Figure size 432x288 with 1 Axes>"
      ]
     },
     "metadata": {
      "needs_background": "light"
     },
     "output_type": "display_data"
    }
   ],
   "source": [
    "plt.plot(dNLI,'o-')"
   ]
  },
  {
   "cell_type": "code",
   "execution_count": 60,
   "id": "a2ec0113-b671-49e0-946a-064ef714fd62",
   "metadata": {},
   "outputs": [
    {
     "data": {
      "text/plain": [
       "[<matplotlib.lines.Line2D at 0x7fe2c39c94c0>]"
      ]
     },
     "execution_count": 60,
     "metadata": {},
     "output_type": "execute_result"
    },
    {
     "data": {
      "image/png": "[encoded data removed]",
      "text/plain": [
       "<Figure size 432x288 with 1 Axes>"
      ]
     },
     "metadata": {
      "needs_background": "light"
     },
     "output_type": "display_data"
    }
   ],
   "source": [
    "plt.plot(dFavg,'o-')"
   ]
  },
  {
   "cell_type": "code",
   "execution_count": 100,
   "id": "6d7c3c81-2355-40d7-aed7-ea75801cef7b",
   "metadata": {},
   "outputs": [
    {
     "data": {
      "text/plain": [
       "array([[0.998, 0.666, 0.   , 0.   , 0.262, 0.329, 0.   , 0.   ],\n",
       "       [0.355, 0.361, 0.   , 0.   , 0.55 , 0.497, 0.   , 0.   ],\n",
       "       [0.064, 0.789, 0.   , 0.   , 0.411, 0.81 , 0.   , 0.   ],\n",
       "       [0.89 , 0.887, 0.   , 0.   , 0.516, 0.805, 0.   , 0.   ],\n",
       "       [0.087, 0.708, 0.   , 0.   , 0.899, 0.337, 0.   , 0.   ],\n",
       "       [0.641, 0.424, 0.   , 0.   , 0.446, 0.185, 0.   , 0.   ],\n",
       "       [0.265, 0.269, 0.   , 0.   , 0.167, 0.97 , 0.   , 0.   ],\n",
       "       [0.151, 0.645, 0.   , 0.   , 0.237, 0.76 , 0.   , 0.   ],\n",
       "       [0.504, 0.97 , 0.   , 0.   , 0.623, 0.308, 0.   , 0.   ],\n",
       "       [0.732, 0.394, 0.   , 0.   , 0.266, 0.552, 0.   , 0.   ]])"
      ]
     },
     "execution_count": 100,
     "metadata": {},
     "output_type": "execute_result"
    }
   ],
   "source": [
    "a = np.random.random((10,4)).round(3)\n",
    "b = np.zeros((10,8))\n",
    "channels = [0,1,4,5]\n",
    "b[:,channels] = a\n",
    "b"
   ]
  },
  {
   "cell_type": "code",
   "execution_count": 87,
   "id": "3ca37294-67d8-42c6-a91f-d5e426c45f82",
   "metadata": {},
   "outputs": [
    {
     "data": {
      "text/plain": [
       "array([1, 4])"
      ]
     },
     "execution_count": 87,
     "metadata": {},
     "output_type": "execute_result"
    }
   ],
   "source": [
    "np.stack([channels,np.array(channels)+1"
   ]
  },
  {
   "cell_type": "code",
   "execution_count": null,
   "id": "23eb3a6d-0643-46a2-8854-1c76989bd99d",
   "metadata": {},
   "outputs": [],
   "source": []
  }
 ],
 "metadata": {
  "kernelspec": {
   "display_name": "julius64",
   "language": "python",
   "name": "julius64"
  },
  "language_info": {
   "codemirror_mode": {
    "name": "ipython",
    "version": 3
   },
   "file_extension": ".py",
   "mimetype": "text/x-python",
   "name": "python",
   "nbconvert_exporter": "python",
   "pygments_lexer": "ipython3",
   "version": "3.9.7"
  }
 },
 "nbformat": 4,
 "nbformat_minor": 5
}
