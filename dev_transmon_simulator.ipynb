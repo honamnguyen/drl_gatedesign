{
 "cells": [
  {
   "cell_type": "markdown",
   "id": "d3f1ec9d-e40f-4db9-b89f-4c7201404b15",
   "metadata": {},
   "source": [
    "# transmon_simulator.py"
   ]
  },
  {
   "cell_type": "code",
   "execution_count": 11,
   "id": "e7f591ed-26a2-4f43-87a5-31ebc30ef98c",
   "metadata": {},
   "outputs": [],
   "source": [
    "# copy file here to modify"
   ]
  },
  {
   "cell_type": "code",
   "execution_count": 1,
   "id": "78f12b29-6dbc-44a5-974d-442f87a3e21d",
   "metadata": {},
   "outputs": [],
   "source": [
    "import numpy as np\n",
    "from transmon_simulator import TransmonSimulator\n",
    "from utility import *\n",
    "from calibration import calibration_loss_1channel, calibration"
   ]
  },
  {
   "cell_type": "markdown",
   "id": "a6ed6ffe-42ca-4556-8d4c-cf73af2d9428",
   "metadata": {},
   "source": [
    "# Calibration: one by one"
   ]
  },
  {
   "cell_type": "code",
   "execution_count": 7,
   "id": "1e5fd1b1-0574-4fd9-a1c5-e39588d62265",
   "metadata": {},
   "outputs": [
    {
     "name": "stdout",
     "output_type": "stream",
     "text": [
      "-   Noiseless control\n"
     ]
    },
    {
     "data": {
      "text/plain": [
       "0.998321901668926"
      ]
     },
     "execution_count": 7,
     "metadata": {},
     "output_type": "execute_result"
    }
   ],
   "source": [
    "MHz = 1e6\n",
    "GHz = 1e9\n",
    "nanosec = 1e-9\n",
    "\n",
    "# simulator\n",
    "num_transmon = 2\n",
    "num_level = 3\n",
    "qubit_indices,_ = qubit_subspace(num_level,num_transmon)\n",
    "\n",
    "dt = 1.7*nanosec\n",
    "anharm   = 2*np.pi * np.array([-319.7,-320.2])*MHz\n",
    "drive    = 2*np.pi * np.array([30,200,30,200])*MHz\n",
    "detune   = 2*np.pi * np.array([115,0])*MHz\n",
    "coupling = 2*np.pi * np.array([1.87])*MHz\n",
    "ctrl_noise = 0\n",
    "\n",
    "params = {'num_transmon': num_transmon,\n",
    "          'num_level': num_level,\n",
    "          'dt': dt,\n",
    "          'ctrl': {'anharm': anharm,\n",
    "                   'drive': drive, \n",
    "                   'detune': detune,\n",
    "                   'coupling': coupling,\n",
    "                  },\n",
    "          'ctrl_noise': ctrl_noise,\n",
    "          'sim_frame_rotation': False,\n",
    "         }\n",
    "sim = TransmonSimulator(params)\n",
    "\n",
    "\n",
    "channel_labels = ['d0','u01','d1','d10']\n",
    "gate = common_gate('HH')\n",
    "U_target = np.eye(num_level**num_transmon,dtype=np.complex128)\n",
    "U_target[qubit_indices] = gate\n",
    "\n",
    "initial_Z_thetas = [np.pi/2,np.pi/2]\n",
    "# initial_Z_thetas = x_HI[3:]+x_IH[3:]\n",
    "\n",
    "num_seg = 10\n",
    "duration = 17 #in ns\n",
    "\n",
    "dt = duration/num_seg*nanosec\n",
    "time_step = np.linspace(0,num_seg,num_seg+1)\n",
    "\n",
    "\n",
    "# drag HI\n",
    "amp,sig,beta = [1,0.27,2.3] \n",
    "# amp,beta,sig = x_HI[:3]\n",
    "drag_pulse_0 = DRAG(num_seg, amp, sig, beta)\n",
    "# drag IH\n",
    "amp,sig,beta = [1,0.2,-0.2]\n",
    "# amp,beta,sig = x_IH[:3]\n",
    "drag_pulse_1 = DRAG(num_seg, amp, sig, beta)\n",
    "\n",
    "\n",
    "# combine\n",
    "drag_total_pulse = np.zeros([len(drag_pulse_0),8])\n",
    "# drag_total_pulse[:,:2] = drag_pulse_0\n",
    "# drag_total_pulse[:,4:6] = drag_pulse_1\n",
    "drag_total_pulse[:,:2] = Z_shift(drag_pulse_0,initial_Z_thetas[0])\n",
    "drag_total_pulse[:,4:6] = Z_shift(drag_pulse_1,initial_Z_thetas[1])\n",
    "total_pulse = np.vstack([drag_total_pulse])\n",
    "# plot_pulse(total_pulse,channel_labels)\n",
    "# sim.pulse_average_fidelity(total_pulse, U_target, qubit_indices, initial_Z_thetas)\n",
    "sim.pulse_average_fidelity(total_pulse, U_target, qubit_indices)"
   ]
  },
  {
   "cell_type": "code",
   "execution_count": 440,
   "id": "1fb2e941-6f76-46f7-b787-5c114c4dded8",
   "metadata": {},
   "outputs": [
    {
     "name": "stdout",
     "output_type": "stream",
     "text": [
      "-   Noiseless control\n"
     ]
    }
   ],
   "source": [
    "num_transmon = 2\n",
    "num_level = 3\n",
    "qubit_indices,_ = qubit_subspace(num_level,num_transmon)\n",
    "\n",
    "dt = 4*nanosec\n",
    "anharm   = 2*np.pi * np.array([-319.7,-320.2])*MHz\n",
    "drive    = 2*np.pi * np.array([30,300,30,300])*MHz\n",
    "# drive    = 2*np.pi * np.array([10,100,10,100])*MHz\n",
    "detune   = 2*np.pi * np.array([115,0])*MHz\n",
    "coupling = 2*np.pi * np.array([1.87])*MHz\n",
    "ctrl_noise = 0\n",
    "\n",
    "params = {'num_transmon': num_transmon,\n",
    "          'num_level': num_level,\n",
    "          'dt': dt,\n",
    "          'ctrl': {'anharm': anharm,\n",
    "                   'drive': drive, \n",
    "                   'detune': detune,\n",
    "                   'coupling': coupling,\n",
    "                  },\n",
    "          'ctrl_noise': ctrl_noise,\n",
    "          'sim_frame_rotation': False,\n",
    "         }\n",
    "sim = TransmonSimulator(params)"
   ]
  },
  {
   "cell_type": "code",
   "execution_count": 441,
   "id": "a34fc9c9-a299-43f9-a648-32e44c3ca315",
   "metadata": {},
   "outputs": [
    {
     "name": "stdout",
     "output_type": "stream",
     "text": [
      "Optimization terminated successfully.\n",
      "         Current function value: -0.999452\n",
      "         Iterations: 188\n",
      "         Function evaluations: 327\n",
      "Optimization terminated successfully.\n",
      "         Current function value: -0.999656\n",
      "         Iterations: 102\n",
      "         Function evaluations: 180\n"
     ]
    }
   ],
   "source": [
    "num_seg = 5\n",
    "\n",
    "# Calibrate HI with DRAG(amp, sig, beta)\n",
    "U_target = np.eye(num_level**num_transmon,dtype=np.complex128)\n",
    "U_target[qubit_indices] = common_gate('HI')\n",
    "\n",
    "channel = 0\n",
    "x0 = [1,0.27,2.3,np.pi/2]\n",
    "bounds = [[0.7,  0, -3, -np.pi],\n",
    "          [1,  0.4,  3,  np.pi]]\n",
    "args = (DRAG, num_seg, channel, U_target, qubit_indices, sim)\n",
    "x_HI,f_HI = calibration(x0, calibration_loss_1channel, bounds, args)\n",
    "\n",
    "# Calibrate IH with DRAG(amp, sig, beta)\n",
    "U_target = np.eye(num_level**num_transmon,dtype=np.complex128)\n",
    "U_target[qubit_indices] = common_gate('IH')\n",
    "\n",
    "channel = 2\n",
    "x0 = [1,0.2,-0.2,np.pi/2]\n",
    "bounds = [[0.7,  0, -3, -np.pi],\n",
    "          [1,  0.4,  3,  np.pi]]\n",
    "args = (DRAG, num_seg, channel, U_target, qubit_indices, sim)\n",
    "x_IH,f_IH = calibration(x0, calibration_loss_1channel, bounds, args)"
   ]
  },
  {
   "cell_type": "code",
   "execution_count": 442,
   "id": "63f48b52-02b0-41e2-ac34-3d1724da5376",
   "metadata": {},
   "outputs": [
    {
     "name": "stdout",
     "output_type": "stream",
     "text": [
      "Optimization terminated successfully.\n",
      "         Current function value: -0.991630\n",
      "         Iterations: 99\n",
      "         Function evaluations: 188\n"
     ]
    }
   ],
   "source": [
    "# Calibrate CNOT with GaussianSquare(gauss_ratio, amp, sig)\n",
    "num_seg = 50\n",
    "\n",
    "U_target = np.eye(num_level**num_transmon,dtype=np.complex128)\n",
    "U_target[qubit_indices] = common_gate('CNOT')\n",
    "\n",
    "channel = 1\n",
    "x0 = [0.35,0.85,0.21,0]\n",
    "bounds = [[0.1, 0.7,    0, -np.pi],\n",
    "          [ 0.5,   1,  0.4,  np.pi]]\n",
    "args = (GaussianSquare, num_seg, channel, U_target, qubit_indices, sim)\n",
    "x_CNOT,f_CNOT = calibration(x0, calibration_loss_1channel, bounds, args)"
   ]
  },
  {
   "cell_type": "code",
   "execution_count": 12,
   "id": "4d78f43a-76ad-4b1b-99e4-8f8079e938b6",
   "metadata": {},
   "outputs": [
    {
     "data": {
      "image/png": "[encoded data removed]",
      "text/plain": [
       "<Figure size 720x144 with 1 Axes>"
      ]
     },
     "metadata": {
      "needs_background": "light"
     },
     "output_type": "display_data"
    }
   ],
   "source": [
    "plot_pulse(GaussianSquare(num_seg,*x_CNOT[:-1]),[''])"
   ]
  },
  {
   "cell_type": "markdown",
   "id": "8be33d4b-3cf5-4b44-9a41-1796a34433e4",
   "metadata": {
    "tags": []
   },
   "source": [
    "## Calibrated HI"
   ]
  },
  {
   "cell_type": "code",
   "execution_count": 242,
   "id": "d3284f16-c4f1-4919-a42b-e373976a2618",
   "metadata": {},
   "outputs": [
    {
     "name": "stdout",
     "output_type": "stream",
     "text": [
      "[-1.0441708626591784, -0.0005088641732668018]\n"
     ]
    },
    {
     "data": {
      "text/plain": [
       "0.9994522913617153"
      ]
     },
     "execution_count": 242,
     "metadata": {},
     "output_type": "execute_result"
    }
   ],
   "source": [
    "channel_labels = ['d0','u01','d1','d10']\n",
    "U_target = np.eye(num_level**num_transmon,dtype=np.complex128)\n",
    "U_target[qubit_indices] = common_gate('HI')\n",
    "\n",
    "# drag HI\n",
    "# amp,sig,beta = [1,0.27,2.3] \n",
    "num_seg = 5\n",
    "amp,sig,beta = x_HI[:-1]\n",
    "drag_pulse_0 = Z_shift(DRAG(num_seg, amp, sig, beta),x_HI[-1])\n",
    "\n",
    "\n",
    "# combine\n",
    "drag_total_pulse = np.zeros([len(drag_pulse_0),8])\n",
    "drag_total_pulse[:,:2] = drag_pulse_0\n",
    "total_pulse = np.vstack([drag_total_pulse])\n",
    "# plot_pulse(total_pulse,channel_labels)\n",
    "avg_fids, next_thetas,U = sim.pulse_average_fidelities(total_pulse, U_target, qubit_indices)\n",
    "print(next_thetas)\n",
    "avg_fids[-1]"
   ]
  },
  {
   "cell_type": "code",
   "execution_count": 237,
   "id": "4d552534-bf77-4667-9179-14540af43fe2",
   "metadata": {},
   "outputs": [
    {
     "name": "stdout",
     "output_type": "stream",
     "text": [
      "0.9994522913617153\n"
     ]
    },
    {
     "data": {
      "text/plain": [
       "0.9993665287243829"
      ]
     },
     "execution_count": 237,
     "metadata": {},
     "output_type": "execute_result"
    }
   ],
   "source": [
    "vZ = Zgate_on_all(next_thetas,num_level=3)\n",
    "print(sim.pulse_average_fidelity(total_pulse, vZ.conj().T@U_target, qubit_indices,[],False))\n",
    "\n",
    "M,_ = projected_overlap(vZ@U@vZ@U,np.eye(9),qubit_indices)\n",
    "average_over_pure_states(M)"
   ]
  },
  {
   "cell_type": "code",
   "execution_count": 182,
   "id": "0c4b8929-ecd3-4c80-90e9-609c4abe643b",
   "metadata": {},
   "outputs": [],
   "source": [
    "num_seg = 5\n",
    "amp,sig,beta = x_HI[:-1]\n",
    "drag_pulse_0 = Z_shift(DRAG(num_seg, amp, sig, beta),x_HI[-1]+next_thetas[0])\n",
    "\n",
    "rag_total_pulse = np.zeros([len(drag_pulse_0),8])\n",
    "drag_total_pulse[:,:2] = drag_pulse_0\n",
    "total_pulse = np.vstack([drag_total_pulse])\n",
    "# plot_pulse(total_pulse,channel_labels)\n",
    "avg_fids, _,UvZ = sim.pulse_average_fidelities(total_pulse, U_target, qubit_indices)"
   ]
  },
  {
   "cell_type": "code",
   "execution_count": 158,
   "id": "f2394e9b-447e-41ff-aeca-ba5f956c9cb5",
   "metadata": {},
   "outputs": [
    {
     "data": {
      "text/plain": [
       "0.9994522913617153"
      ]
     },
     "execution_count": 158,
     "metadata": {},
     "output_type": "execute_result"
    }
   ],
   "source": [
    "M,theta = projected_overlap(vZ@U,U_target,qubit_indices,False)\n",
    "average_over_pure_states(M)"
   ]
  },
  {
   "cell_type": "code",
   "execution_count": 163,
   "id": "e58b06a8-31de-4517-b762-3224f22fd396",
   "metadata": {},
   "outputs": [
    {
     "data": {
      "text/plain": [
       "array([[[ 1.  +0.02j,  0.01+0.j  ,  0.  -0.j  ,  0.01-0.j  ],\n",
       "        [-0.01-0.j  ,  1.  +0.02j,  0.02+0.01j,  0.  +0.j  ],\n",
       "        [-0.  -0.j  , -0.02+0.01j,  1.  +0.02j, -0.01+0.j  ],\n",
       "        [-0.01-0.j  , -0.  +0.j  ,  0.01+0.j  ,  1.  +0.02j]]])"
      ]
     },
     "execution_count": 163,
     "metadata": {},
     "output_type": "execute_result"
    }
   ],
   "source": [
    "M.round(2)"
   ]
  },
  {
   "cell_type": "code",
   "execution_count": 166,
   "id": "9d2cfe0d-e9b4-43e8-b360-d361ca1c520f",
   "metadata": {},
   "outputs": [],
   "source": [
    "U2 = ((vZ@U)[qubit_indices]@(vZ@U)[qubit_indices])"
   ]
  },
  {
   "cell_type": "code",
   "execution_count": 169,
   "id": "902774ab-e4db-4f38-a3e8-ce23058c34d5",
   "metadata": {},
   "outputs": [
    {
     "data": {
      "text/plain": [
       "array([[ 1.+0.j,  0.+0.j,  0.-0.j,  0.+0.j],\n",
       "       [-0.+0.j,  1.+0.j, -0.+0.j,  0.+0.j],\n",
       "       [ 0.-0.j,  0.+0.j,  1.+0.j, -0.-0.j],\n",
       "       [-0.+0.j,  0.+0.j,  0.-0.j,  1.-0.j]])"
      ]
     },
     "execution_count": 169,
     "metadata": {},
     "output_type": "execute_result"
    }
   ],
   "source": [
    "(U2/U2[0,0]).round(1)"
   ]
  },
  {
   "cell_type": "code",
   "execution_count": 147,
   "id": "6b8ba55f-41c7-4229-a6cf-eed20ce2a165",
   "metadata": {},
   "outputs": [
    {
     "data": {
      "text/plain": [
       "array([[1.+0.j, 0.+0.j, 0.+0.j, 0.+0.j],\n",
       "       [0.+0.j, 1.+0.j, 0.+0.j, 0.+0.j],\n",
       "       [0.+0.j, 0.+0.j, 1.+0.j, 0.+0.j],\n",
       "       [0.+0.j, 0.+0.j, 0.+0.j, 1.+0.j]])"
      ]
     },
     "execution_count": 147,
     "metadata": {},
     "output_type": "execute_result"
    }
   ],
   "source": [
    "U_target[qubit_indices]@U_target[qubit_indices]"
   ]
  },
  {
   "cell_type": "code",
   "execution_count": 264,
   "id": "185716b0-53f9-48c1-91ec-332c1e65434a",
   "metadata": {},
   "outputs": [
    {
     "name": "stdout",
     "output_type": "stream",
     "text": [
      "[-2.080776769499921, -0.001537788660231478]\n",
      "0.9990185379637483 -2.921681167838508\n"
     ]
    },
    {
     "data": {
      "image/png": "[encoded data removed]",
      "text/plain": [
       "<Figure size 432x288 with 1 Axes>"
      ]
     },
     "metadata": {
      "needs_background": "light"
     },
     "output_type": "display_data"
    },
    {
     "data": {
      "image/png": "[encoded data removed]",
      "text/plain": [
       "<Figure size 720x576 with 4 Axes>"
      ]
     },
     "metadata": {
      "needs_background": "light"
     },
     "output_type": "display_data"
    }
   ],
   "source": [
    "channel_labels = ['d0','u01','d1','d10']\n",
    "U_target = np.eye(num_level**num_transmon,dtype=np.complex128)\n",
    "U_target[qubit_indices] = common_gate('II')\n",
    "\n",
    "num_seg = 5\n",
    "\n",
    "############ first HI ############\n",
    "amp,sig,beta = x_HI[:-1]\n",
    "drag_pulse_0 = Z_shift(DRAG(num_seg, amp, sig, beta),x_HI[-1])\n",
    "\n",
    "H_pulse_1 = np.zeros([len(drag_pulse_0),8])\n",
    "H_pulse_1[:,:2] = drag_pulse_0\n",
    "\n",
    "theta = -np.pi*0.93\n",
    "############ second HI ############\n",
    "amp,sig,beta = x_HI[:-1]\n",
    "drag_pulse_0 = Z_shift(DRAG(num_seg, amp, sig, beta),x_HI[-1]+theta)\n",
    "\n",
    "H_pulse_2 = np.zeros([len(drag_pulse_0),8])\n",
    "H_pulse_2[:,:2] = drag_pulse_0\n",
    "\n",
    "total_pulse = np.vstack([H_pulse_1,H_pulse_2])\n",
    "avg_fids, thetas,U2 = sim.pulse_average_fidelities(total_pulse, U_target, qubit_indices)\n",
    "print(thetas)\n",
    "print(avg_fids[-1],theta)\n",
    "plt.plot(avg_fids,'o-')\n",
    "plt.show()\n",
    "plot_pulse(total_pulse,channel_labels)"
   ]
  },
  {
   "cell_type": "code",
   "execution_count": null,
   "id": "3d335d1f-afe5-428d-bdb6-22d14d37bbc6",
   "metadata": {},
   "outputs": [
    {
     "data": {
      "text/plain": [
       "0.9994636904473959"
      ]
     },
     "execution_count": 96,
     "metadata": {},
     "output_type": "execute_result"
    }
   ],
   "source": [
    "vZ = Zgate_on_all(next_thetas,num_level=3)\n",
    "sim.pulse_average_fidelity(total_pulse, vZ.conj().T@U_target, qubit_indices,[],False)"
   ]
  },
  {
   "cell_type": "markdown",
   "id": "afdbd712-6c85-4c8f-bb88-d676a23d76a7",
   "metadata": {
    "tags": []
   },
   "source": [
    "## Calibrate NOTC"
   ]
  },
  {
   "cell_type": "code",
   "execution_count": 311,
   "id": "5753971e-ff0b-41b5-bf3d-621295767a5b",
   "metadata": {},
   "outputs": [],
   "source": [
    "channel_labels = ['d0','u01','d1','d10']\n",
    "U_target = np.eye(num_level**num_transmon,dtype=np.complex128)\n",
    "\n",
    "U_target[qubit_indices] = common_gate('NOTC')\n",
    "\n",
    "# drag HI\n",
    "num_seg = 5\n",
    "amp,sig,beta = x_HI[:-1]\n",
    "drag_pulse_0 = Z_shift(DRAG(num_seg, amp, sig, beta),x_HI[-1])\n",
    "\n",
    "# drag IH\n",
    "num_seg = 5\n",
    "amp,sig,beta = x_IH[:-1]\n",
    "drag_pulse_1 = Z_shift(DRAG(num_seg, amp, sig, beta),x_IH[-1])\n",
    "\n",
    "# GS CNOT\n",
    "num_seg = 50\n",
    "gauss_ratio, amp, sig = x_CNOT[:-1]\n",
    "GS_pulse = GaussianSquare(num_seg, gauss_ratio, amp, sig)\n",
    "\n",
    "# combine\n",
    "HH_pulse_1 = np.zeros([len(drag_pulse_0),8])\n",
    "HH_pulse_1[:,:2] = drag_pulse_0\n",
    "HH_pulse_1[:,4:6] = drag_pulse_1"
   ]
  },
  {
   "cell_type": "code",
   "execution_count": null,
   "id": "c4fa7cc7-c556-44ad-b2cf-edccd343e632",
   "metadata": {},
   "outputs": [
    {
     "name": "stdout",
     "output_type": "stream",
     "text": [
      "Optimization terminated successfully.\n",
      "         Current function value: -0.992710\n",
      "         Iterations: 54\n",
      "         Function evaluations: 101\n"
     ]
    },
    {
     "data": {
      "text/plain": [
       "array([-0.46248818,  3.07479481,  2.73190108])"
      ]
     },
     "execution_count": 340,
     "metadata": {},
     "output_type": "execute_result"
    }
   ],
   "source": [
    "def NOTC_loss(x):\n",
    "    cnot_pulse = np.zeros([len(GS_pulse),8])\n",
    "    cnot_pulse[:,2:4] = Z_shift(GS_pulse,x[0])\n",
    "\n",
    "    HH_pulse_2 = np.zeros([len(drag_pulse_0),8])\n",
    "    HH_pulse_2[:,:2] = Z_shift(drag_pulse_0,x[1]) \n",
    "    HH_pulse_2[:,4:6] = Z_shift(drag_pulse_1,x[2])\n",
    "    total_pulse = np.vstack([HH_pulse_1,cnot_pulse,HH_pulse_2])\n",
    "    return -sim.pulse_average_fidelity(total_pulse, U_target, qubit_indices)\n",
    "\n",
    "x0 = np.array([-0.105,0.989,0.944])*np.pi\n",
    "# x0 = np.zeros(3)\n",
    "bounds = [[-np.pi,-np.pi,-np.pi],\n",
    "          [np.pi,np.pi,np.pi]]\n",
    "args = ()\n",
    "x_NOTC,f_NOTC = calibration(x0, NOTC_loss, bounds, args)\n",
    "x_NOTC"
   ]
  },
  {
   "cell_type": "code",
   "execution_count": 319,
   "id": "3f347089-328a-43e3-b790-3cffbaafaf67",
   "metadata": {},
   "outputs": [
    {
     "name": "stdout",
     "output_type": "stream",
     "text": [
      "Optimization terminated successfully.\n",
      "         Current function value: -0.993083\n",
      "         Iterations: 461\n",
      "         Function evaluations: 737\n"
     ]
    },
    {
     "data": {
      "text/plain": [
       "array([ 0.02149879,  0.41830565, -0.04503169,  3.09840423,  3.14153095])"
      ]
     },
     "execution_count": 319,
     "metadata": {},
     "output_type": "execute_result"
    }
   ],
   "source": [
    "# def NOTC_loss(x):\n",
    "#     HH_pulse_1 = np.zeros([len(drag_pulse_0),8])\n",
    "#     HH_pulse_1[:,:2] = Z_shift(drag_pulse_0,x[0]) \n",
    "#     HH_pulse_1[:,4:6] = Z_shift(drag_pulse_1,x[1])\n",
    "\n",
    "#     cnot_pulse = np.zeros([len(GS_pulse),8])\n",
    "#     cnot_pulse[:,2:4] = Z_shift(GS_pulse,x[2])\n",
    "\n",
    "#     HH_pulse_2 = np.zeros([len(drag_pulse_0),8])\n",
    "#     HH_pulse_2[:,:2] = Z_shift(drag_pulse_0,x[3]) \n",
    "#     HH_pulse_2[:,4:6] = Z_shift(drag_pulse_1,x[4])\n",
    "#     total_pulse = np.vstack([HH_pulse_1,cnot_pulse,HH_pulse_2])\n",
    "#     return -sim.pulse_average_fidelity(total_pulse, U_target, qubit_indices)\n",
    "\n",
    "# x0 = np.array([0.074,0.414,-0.105,0.989,0.944])*np.pi\n",
    "# bounds = [[-np.pi,-np.pi,-np.pi,-np.pi,-np.pi],\n",
    "#           [np.pi,np.pi,np.pi,np.pi,np.pi]]\n",
    "# args = ()\n",
    "# x_NOTC,f_NOTC = calibration(x0, NOTC_loss, bounds, args)\n",
    "# x_NOTC"
   ]
  },
  {
   "cell_type": "code",
   "execution_count": 337,
   "id": "64393e8e-46b5-416f-a858-d47a6e42549d",
   "metadata": {},
   "outputs": [
    {
     "name": "stdout",
     "output_type": "stream",
     "text": [
      "[-2.3685917108666095, -1.0228706447569793]\n",
      "0.9927099996332153\n"
     ]
    },
    {
     "data": {
      "image/png": "[encoded data removed]",
      "text/plain": [
       "<Figure size 432x288 with 1 Axes>"
      ]
     },
     "metadata": {
      "needs_background": "light"
     },
     "output_type": "display_data"
    },
    {
     "data": {
      "image/png": "[encoded data removed]",
      "text/plain": [
       "<Figure size 720x576 with 4 Axes>"
      ]
     },
     "metadata": {
      "needs_background": "light"
     },
     "output_type": "display_data"
    }
   ],
   "source": [
    "channel_labels = ['d0','u01','d1','d10']\n",
    "U_target = np.eye(num_level**num_transmon,dtype=np.complex128)\n",
    "U_target[qubit_indices] = common_gate('NOTC')\n",
    "\n",
    "# drag HI\n",
    "num_seg = 5\n",
    "amp,sig,beta = x_HI[:-1]\n",
    "drag_pulse_0 = Z_shift(DRAG(num_seg, amp, sig, beta),x_HI[-1])\n",
    "\n",
    "# drag IH\n",
    "num_seg = 5\n",
    "amp,sig,beta = x_IH[:-1]\n",
    "drag_pulse_1 = Z_shift(DRAG(num_seg, amp, sig, beta),x_IH[-1])\n",
    "\n",
    "# GS CNOT\n",
    "num_seg = 50\n",
    "gauss_ratio, amp, sig = x_CNOT[:-1]\n",
    "GS_pulse = GaussianSquare(num_seg, gauss_ratio, amp, sig)\n",
    "\n",
    "# combine\n",
    "HH_pulse_1 = np.zeros([len(drag_pulse_0),8])\n",
    "HH_pulse_1[:,:2] = drag_pulse_0\n",
    "HH_pulse_1[:,4:6] = drag_pulse_1\n",
    "\n",
    "cnot_pulse = np.zeros([len(GS_pulse),8])\n",
    "cnot_pulse[:,2:4] = Z_shift(GS_pulse,x_NOTC[0])\n",
    "\n",
    "HH_pulse_2 = np.zeros([len(drag_pulse_0),8])\n",
    "HH_pulse_2[:,:2] = Z_shift(drag_pulse_0,x_NOTC[1]) \n",
    "HH_pulse_2[:,4:6] = Z_shift(drag_pulse_1,x_NOTC[2])\n",
    "total_pulse = np.vstack([HH_pulse_1,cnot_pulse,HH_pulse_2])\n",
    "NOTC_pulse = total_pulse.copy()\n",
    "\n",
    "avg_fids, next_thetas,U = sim.pulse_average_fidelities(total_pulse, U_target, qubit_indices)\n",
    "print(next_thetas)\n",
    "print(avg_fids.max())\n",
    "plt.plot(avg_fids,'o-')\n",
    "plt.show()\n",
    "plot_pulse(total_pulse,channel_labels)"
   ]
  },
  {
   "cell_type": "markdown",
   "id": "bc6e8aa5-0569-484a-b7a6-97a935daeff5",
   "metadata": {},
   "source": [
    "## Calibrate SWAP"
   ]
  },
  {
   "cell_type": "code",
   "execution_count": 360,
   "id": "af22836f-0a35-4657-ab2c-fa87ebe7f8f9",
   "metadata": {},
   "outputs": [
    {
     "name": "stdout",
     "output_type": "stream",
     "text": [
      "Optimization terminated successfully.\n",
      "         Current function value: -0.979545\n",
      "         Iterations: 136\n",
      "         Function evaluations: 250\n"
     ]
    }
   ],
   "source": [
    "channel_labels = ['d0','u01','d1','d10']\n",
    "U_target = np.eye(num_level**num_transmon,dtype=np.complex128)\n",
    "U_target[qubit_indices] = common_gate('SWAP')\n",
    "\n",
    "# GS CNOT\n",
    "GS_pulse = GaussianSquare(50, *x_CNOT[:-1])\n",
    "cnot_pulse_1 = np.zeros([len(GS_pulse),8])\n",
    "cnot_pulse_1[:,2:4] = GS_pulse\n",
    "notc_pulse = np.zeros_like(NOTC_pulse)\n",
    "\n",
    "def SWAP_loss(x):\n",
    "    notc_pulse[:,:2] = Z_shift(NOTC_pulse[:,:2],x[0])\n",
    "    notc_pulse[:,2:4] = Z_shift(NOTC_pulse[:,2:4],x[0])\n",
    "    notc_pulse[:,4:6] = Z_shift(NOTC_pulse[:,4:6],x[1])\n",
    "    \n",
    "    cnot_pulse_2 = np.zeros([len(GS_pulse),8])\n",
    "    cnot_pulse_2[:,2:4] = Z_shift(GS_pulse,x[2])\n",
    "    \n",
    "    total_pulse = np.vstack([cnot_pulse_1,notc_pulse,cnot_pulse_2])\n",
    "    return -sim.pulse_average_fidelity(total_pulse, U_target, qubit_indices)\n",
    "\n",
    "x0 = (2*np.random.random(3)-1)*np.pi\n",
    "# x0 = np.zeros(3)\n",
    "bounds = [[-np.pi,-np.pi,-np.pi],\n",
    "          [np.pi,np.pi,np.pi]]\n",
    "args = ()\n",
    "x_SWAP,f_SWAP = calibration(x0, SWAP_loss, bounds, args)"
   ]
  },
  {
   "cell_type": "code",
   "execution_count": 361,
   "id": "23fd5ff6-b36a-4751-9b0b-70f6f4e6093e",
   "metadata": {},
   "outputs": [
    {
     "name": "stdout",
     "output_type": "stream",
     "text": [
      "0.9795454823256957\n",
      "[-0.53044987 -0.58845335  2.24255383]\n",
      "[-0.16884744 -0.18731052  0.71382705]\n"
     ]
    }
   ],
   "source": [
    "print(-f_SWAP)\n",
    "print(x_SWAP)\n",
    "print(x_SWAP/np.pi)"
   ]
  },
  {
   "cell_type": "code",
   "execution_count": 363,
   "id": "809b51b8-e416-483f-a2ef-3538a39ad6a5",
   "metadata": {},
   "outputs": [
    {
     "name": "stdout",
     "output_type": "stream",
     "text": [
      "[-3.1151586634995136, 2.5800698857335185]\n",
      "0.9799830275255031\n"
     ]
    },
    {
     "data": {
      "image/png": "[encoded data removed]",
      "text/plain": [
       "<Figure size 432x288 with 1 Axes>"
      ]
     },
     "metadata": {
      "needs_background": "light"
     },
     "output_type": "display_data"
    },
    {
     "data": {
      "image/png": "[encoded data removed]",
      "text/plain": [
       "<Figure size 720x576 with 4 Axes>"
      ]
     },
     "metadata": {
      "needs_background": "light"
     },
     "output_type": "display_data"
    }
   ],
   "source": [
    "channel_labels = ['d0','u01','d1','d10']\n",
    "U_target = np.eye(num_level**num_transmon,dtype=np.complex128)\n",
    "U_target[qubit_indices] = common_gate('SWAP')\n",
    "\n",
    "# GS CNOT\n",
    "GS_pulse = GaussianSquare(50, *x_CNOT[:-1])\n",
    "cnot_pulse_1 = np.zeros([len(GS_pulse),8])\n",
    "cnot_pulse_1[:,2:4] = GS_pulse\n",
    "notc_pulse = np.zeros_like(NOTC_pulse)\n",
    "\n",
    "notc_pulse[:,:2] = Z_shift(NOTC_pulse[:,:2],x_SWAP[0])\n",
    "notc_pulse[:,2:4] = Z_shift(NOTC_pulse[:,2:4],x_SWAP[0])\n",
    "notc_pulse[:,4:6] = Z_shift(NOTC_pulse[:,4:6],x_SWAP[1])\n",
    "\n",
    "cnot_pulse_2 = np.zeros([len(GS_pulse),8])\n",
    "cnot_pulse_2[:,2:4] = Z_shift(GS_pulse,x_SWAP[2])\n",
    "\n",
    "total_pulse = np.vstack([cnot_pulse_1,notc_pulse,cnot_pulse_2])\n",
    "\n",
    "avg_fids, next_thetas,U = sim.pulse_average_fidelities(total_pulse, U_target, qubit_indices)\n",
    "print(next_thetas)\n",
    "print(avg_fids.max())\n",
    "plt.plot(avg_fids,'o-')\n",
    "plt.show()\n",
    "plot_pulse(total_pulse,channel_labels)"
   ]
  },
  {
   "cell_type": "markdown",
   "id": "f05e5376-c8f3-4f26-95e3-0193d54176ae",
   "metadata": {},
   "source": [
    "# Calibration with IX90, X90I, CNOT"
   ]
  },
  {
   "cell_type": "code",
   "execution_count": 581,
   "id": "c97f234c-fbf5-44d4-9326-ae59602e1671",
   "metadata": {},
   "outputs": [
    {
     "name": "stdout",
     "output_type": "stream",
     "text": [
      "-   Noiseless control\n"
     ]
    }
   ],
   "source": [
    "MHz = 1e6\n",
    "GHz = 1e9\n",
    "nanosec = 1e-9\n",
    "\n",
    "# simulator\n",
    "num_transmon = 2\n",
    "num_level = 3\n",
    "qubit_indices,_ = qubit_subspace(num_level,num_transmon)\n",
    "\n",
    "dt = 4*nanosec\n",
    "anharm   = 2*np.pi * np.array([-319.7,-320.2])*MHz\n",
    "drive    = 2*np.pi * np.array([30,300,30,300])*MHz\n",
    "detune   = 2*np.pi * np.array([115,0])*MHz\n",
    "coupling = 2*np.pi * np.array([1.87])*MHz\n",
    "ctrl_noise = 0\n",
    "\n",
    "params = {'num_transmon': num_transmon,\n",
    "          'num_level': num_level,\n",
    "          'dt': dt,\n",
    "          'ctrl': {'anharm': anharm,\n",
    "                   'drive': drive, \n",
    "                   'detune': detune,\n",
    "                   'coupling': coupling,\n",
    "                  },\n",
    "          'ctrl_noise': ctrl_noise,\n",
    "          'sim_frame_rotation': False,\n",
    "         }\n",
    "sim = TransmonSimulator(params)"
   ]
  },
  {
   "cell_type": "markdown",
   "id": "575ed6c7-c2c2-4687-ab35-ad33912b4603",
   "metadata": {},
   "source": [
    "## DRAG & GaussianSquare"
   ]
  },
  {
   "cell_type": "code",
   "execution_count": 553,
   "id": "c2b5babf-ee3b-4f6e-995e-ae5f986e005e",
   "metadata": {},
   "outputs": [
    {
     "name": "stdout",
     "output_type": "stream",
     "text": [
      "Optimization terminated successfully.\n",
      "         Current function value: -0.999452\n",
      "         Iterations: 395\n",
      "         Function evaluations: 645\n"
     ]
    },
    {
     "data": {
      "text/plain": [
       "array([ 1.        ,  0.25705079, -0.46631134, -1.33888415])"
      ]
     },
     "execution_count": 553,
     "metadata": {},
     "output_type": "execute_result"
    }
   ],
   "source": [
    "# Calibrate DRAG(amp, sig, beta)\n",
    "U_target = np.eye(num_level**num_transmon,dtype=np.complex128)\n",
    "U_target[qubit_indices] = common_gate('X90I')\n",
    "\n",
    "num_seg = 5\n",
    "channel = 0\n",
    "bounds = np.array([[0.7,  0, -3, -np.pi],\n",
    "                   [1,  0.4,  3,  np.pi]])\n",
    "x0 = [np.random.uniform(*bounds[:,i]) for i in range(bounds.shape[1])]\n",
    "args = (DRAG, num_seg, channel, U_target, qubit_indices, sim)\n",
    "x_X90I,f_X90I = calibration(x0, calibration_loss_1channel, bounds, args)\n",
    "x_X90I"
   ]
  },
  {
   "cell_type": "code",
   "execution_count": 555,
   "id": "15ec32e3-ec59-46c6-865e-42e4bf7ab5b7",
   "metadata": {},
   "outputs": [
    {
     "name": "stdout",
     "output_type": "stream",
     "text": [
      "Optimization terminated successfully.\n",
      "         Current function value: -0.999674\n",
      "         Iterations: 307\n",
      "         Function evaluations: 514\n"
     ]
    },
    {
     "data": {
      "text/plain": [
       "array([ 0.71479103,  0.24319973, -0.41055427, -0.11303429])"
      ]
     },
     "execution_count": 555,
     "metadata": {},
     "output_type": "execute_result"
    }
   ],
   "source": [
    "# Calibrate DRAG(amp, sig, beta)\n",
    "U_target = np.eye(num_level**num_transmon,dtype=np.complex128)\n",
    "U_target[qubit_indices] = common_gate('IX90')\n",
    "\n",
    "num_seg = 5\n",
    "channel = 2\n",
    "bounds = np.array([[0.7,  0, -3, -np.pi],\n",
    "                   [1,  0.4,  3,  np.pi]])\n",
    "x0 = [np.random.uniform(*bounds[:,i]) for i in range(bounds.shape[1])]\n",
    "args = (DRAG, num_seg, channel, U_target, qubit_indices, sim)\n",
    "x_IX90,f_IX90 = calibration(x0, calibration_loss_1channel, bounds, args)\n",
    "x_IX90"
   ]
  },
  {
   "cell_type": "code",
   "execution_count": 657,
   "id": "07c0448c-0b88-45d5-97d1-75a0951e3bca",
   "metadata": {},
   "outputs": [
    {
     "name": "stdout",
     "output_type": "stream",
     "text": [
      "Optimization terminated successfully.\n",
      "         Current function value: -0.992654\n",
      "         Iterations: 89\n",
      "         Function evaluations: 159\n",
      "[ 0.45272866  1.          0.15123441 -0.15832501] -0.9926538259422513\n"
     ]
    }
   ],
   "source": [
    "# Calibrate CNOT with GaussianSquare(gauss_ratio, amp, sig)\n",
    "U_target = np.eye(num_level**num_transmon,dtype=np.complex128)\n",
    "U_target[qubit_indices] = common_gate('CNOT')\n",
    "\n",
    "num_seg = 50\n",
    "channel = 1\n",
    "bounds = np.array([[0.1, 0.7,    0, -np.pi],\n",
    "                   [0.5,    1,  0.4,  np.pi]])\n",
    "# x0 = [np.random.uniform(*bounds[:,i]) for i in range(bounds.shape[1])]\n",
    "x0 = [0.445,1,0.151,-0.158]*(1 + 0.1*(np.random.random(4)-0.5))\n",
    "args = (GaussianSquare, num_seg, channel, U_target, qubit_indices, sim)\n",
    "x_CNOT,f_CNOT = calibration(x0, calibration_loss_1channel, bounds, args)\n",
    "print(x_CNOT,f_CNOT)"
   ]
  },
  {
   "cell_type": "code",
   "execution_count": null,
   "id": "a2fc792b-9cec-414e-9f1c-d2cc7e81923b",
   "metadata": {},
   "outputs": [],
   "source": [
    "[0.44542538 1.         0.15123449 -0.1583192] -0.9926538261968731\n",
    "[0.43478749 0.93341832 0.15184604 0.15240044] -0.9925931065157855\n",
    "[0.41973656 0.88721655 0.15261192 0.04758285] -0.9921644038550085\n",
    "[0.43999404 0.90112382 0.15718714 0.04621372] -0.9919013133397888"
   ]
  },
  {
   "cell_type": "markdown",
   "id": "07c5165b-17ad-4496-a3ac-93980a3756bb",
   "metadata": {
    "tags": []
   },
   "source": [
    "## SWAP\n",
    "- Better optimized altogether"
   ]
  },
  {
   "cell_type": "code",
   "execution_count": 669,
   "id": "6548cab0-390b-4bd0-a3d1-4f2bed76527b",
   "metadata": {},
   "outputs": [
    {
     "name": "stdout",
     "output_type": "stream",
     "text": [
      "Optimization terminated successfully.\n",
      "         Current function value: -0.988471\n",
      "         Iterations: 507\n",
      "         Function evaluations: 762\n",
      "[ 0.40192683  1.60814476  0.50891225 -1.31562956 -2.81163055 -3.13722026\n",
      " -0.74656652] -0.9884709299878089\n"
     ]
    }
   ],
   "source": [
    "channel_labels = ['d0','u01','d1','d10']\n",
    "U_target = np.eye(num_level**num_transmon,dtype=np.complex128)\n",
    "U_target[qubit_indices] = common_gate('SWAP')\n",
    "\n",
    "drag_pulse_0 = DRAG(5, *x_X90I[:-1])\n",
    "drag_pulse_1 = DRAG(5, *x_IX90[:-1])\n",
    "GS_pulse = GaussianSquare(50, *x_CNOT[:-1])\n",
    "\n",
    "def SWAP_loss(x):\n",
    "    cnot_pulse_1 = np.zeros([len(GS_pulse),8])\n",
    "    cnot_pulse_1[:,2:4] = Z_shift(GS_pulse,x[0])\n",
    "    \n",
    "    hh_pulse_1 = np.zeros([len(drag_pulse_0),8])\n",
    "    hh_pulse_1[:, :2] = Z_shift(drag_pulse_0,x[1])\n",
    "    hh_pulse_1[:,4:6] = Z_shift(drag_pulse_1,x[2])\n",
    "    \n",
    "    cnot_pulse_2 = np.zeros([len(GS_pulse),8])\n",
    "    cnot_pulse_2[:,2:4] = Z_shift(GS_pulse,x[3])\n",
    "    \n",
    "    hh_pulse_2 = np.zeros([len(drag_pulse_0),8])\n",
    "    hh_pulse_2[:, :2] = Z_shift(drag_pulse_0,x[4])\n",
    "    hh_pulse_2[:,4:6] = Z_shift(drag_pulse_1,x[5])\n",
    "    \n",
    "    cnot_pulse_3 = np.zeros([len(GS_pulse),8])\n",
    "    cnot_pulse_3[:,2:4] = Z_shift(GS_pulse,x[6])\n",
    "    \n",
    "    total_pulse = np.vstack([cnot_pulse_1,\n",
    "                             hh_pulse_1,\n",
    "                             cnot_pulse_2,\n",
    "                             hh_pulse_2,\n",
    "                             cnot_pulse_3])\n",
    "    return -sim.pulse_average_fidelity(total_pulse, U_target, qubit_indices)\n",
    "\n",
    "bounds = np.pi*np.array([[-1,-1,-1,-1,-1,-1,-1],\n",
    "                         [ 1, 1, 1, 1, 1, 1, 1]])\n",
    "# x0 = [np.random.uniform(*bounds[:,i]) for i in range(bounds.shape[1])]\n",
    "x0 = [0.22,1.27,0.49,-1.32,-3.,-3.,-0.92]*(1 + 0.1*(np.random.random(7)-0.5))\n",
    "x_SWAP,f_SWAP = calibration(x0, SWAP_loss, bounds)\n",
    "print(x_SWAP,f_SWAP)"
   ]
  },
  {
   "cell_type": "code",
   "execution_count": null,
   "id": "8b0ddff9-7f86-491e-9ee1-da07d757995f",
   "metadata": {},
   "outputs": [],
   "source": [
    "[ 0.40192683  1.60814476  0.50891225 -1.31562956 -2.81163055 -3.13722026\n",
    " -0.74656652] -0.9884709299878089\n",
    "[ 0.2197839   1.27311397  0.49450416 -1.3158347  -3.14159265 -3.13039812\n",
    " -0.9154409 ] -0.988267124218523\n",
    "[-0.19640728 -1.1962081   0.5956719  -1.14566282  0.84769395 -2.87404917\n",
    " -1.17117661] -0.9854079237366047\n",
    "[-2.77979677  1.2173477   1.88210842  3.13918683  0.12581288 -1.80122202\n",
    " -0.6546127 ] -0.9851847203781038"
   ]
  },
  {
   "cell_type": "code",
   "execution_count": 662,
   "id": "eff13b06-5220-442b-9ee8-52bd695452cf",
   "metadata": {
    "jupyter": {
     "source_hidden": true
    },
    "tags": []
   },
   "outputs": [
    {
     "name": "stdout",
     "output_type": "stream",
     "text": [
      "Optimization terminated successfully.\n",
      "         Current function value: -0.985923\n",
      "         Iterations: 614\n",
      "         Function evaluations: 985\n",
      "[-2.5131807  -1.15245246  0.13612797  2.62610008  1.35904574 -1.24281278] -0.9859227400514164\n"
     ]
    }
   ],
   "source": [
    "# 6 variables, using CNOT first angle\n",
    "channel_labels = ['d0','u01','d1','d10']\n",
    "U_target = np.eye(num_level**num_transmon,dtype=np.complex128)\n",
    "U_target[qubit_indices] = common_gate('SWAP')\n",
    "\n",
    "drag_pulse_0 = DRAG(5, *x_X90I[:-1])\n",
    "drag_pulse_1 = DRAG(5, *x_IX90[:-1])\n",
    "GS_pulse = GaussianSquare(50, *x_CNOT[:-1])\n",
    "\n",
    "def SWAP_loss(x):\n",
    "    cnot_pulse_1 = np.zeros([len(GS_pulse),8])\n",
    "    cnot_pulse_1[:,2:4] = Z_shift(GS_pulse,x_CNOT[-1])\n",
    "    \n",
    "    hh_pulse_1 = np.zeros([len(drag_pulse_0),8])\n",
    "    hh_pulse_1[:, :2] = Z_shift(drag_pulse_0,x[0])\n",
    "    hh_pulse_1[:,4:6] = Z_shift(drag_pulse_1,x[1])\n",
    "    \n",
    "    cnot_pulse_2 = np.zeros([len(GS_pulse),8])\n",
    "    cnot_pulse_2[:,2:4] = Z_shift(GS_pulse,x[2])\n",
    "    \n",
    "    hh_pulse_2 = np.zeros([len(drag_pulse_0),8])\n",
    "    hh_pulse_2[:, :2] = Z_shift(drag_pulse_0,x[3])\n",
    "    hh_pulse_2[:,4:6] = Z_shift(drag_pulse_1,x[4])\n",
    "    \n",
    "    cnot_pulse_3 = np.zeros([len(GS_pulse),8])\n",
    "    cnot_pulse_3[:,2:4] = Z_shift(GS_pulse,x[5])\n",
    "    \n",
    "    total_pulse = np.vstack([cnot_pulse_1,\n",
    "                             hh_pulse_1,\n",
    "                             cnot_pulse_2,\n",
    "                             hh_pulse_2,\n",
    "                             cnot_pulse_3])\n",
    "    return -sim.pulse_average_fidelity(total_pulse, U_target, qubit_indices)\n",
    "\n",
    "bounds = np.pi*np.array([[-1,-1,-1,-1,-1,-1],\n",
    "                         [ 1, 1, 1, 1, 1, 1]])\n",
    "x0 = [np.random.uniform(*bounds[:,i]) for i in range(bounds.shape[1])]\n",
    "x_SWAP,f_SWAP = calibration(x0, SWAP_loss, bounds)\n",
    "print(x_SWAP,f_SWAP)"
   ]
  },
  {
   "cell_type": "code",
   "execution_count": 665,
   "id": "374103c5-b34d-430c-856a-72a2e3fb4cee",
   "metadata": {
    "jupyter": {
     "source_hidden": true
    },
    "tags": []
   },
   "outputs": [
    {
     "name": "stdout",
     "output_type": "stream",
     "text": [
      "Optimization terminated successfully.\n",
      "         Current function value: -0.911508\n",
      "         Iterations: 572\n",
      "         Function evaluations: 897\n",
      "[ 0.50250797 -1.912882   -0.31902529 -0.69955808  1.4730713  -3.14159265] -0.9115084998684597\n"
     ]
    }
   ],
   "source": [
    "# 6 variables, no first angle\n",
    "channel_labels = ['d0','u01','d1','d10']\n",
    "U_target = np.eye(num_level**num_transmon,dtype=np.complex128)\n",
    "U_target[qubit_indices] = common_gate('SWAP')\n",
    "\n",
    "drag_pulse_0 = DRAG(5, *x_X90I[:-1])\n",
    "drag_pulse_1 = DRAG(5, *x_IX90[:-1])\n",
    "GS_pulse = GaussianSquare(50, *x_CNOT[:-1])\n",
    "\n",
    "def SWAP_loss(x):\n",
    "    cnot_pulse_1 = np.zeros([len(GS_pulse),8])\n",
    "    cnot_pulse_1[:,2:4] = Z_shift(GS_pulse,x_CNOT[-1])\n",
    "    \n",
    "    hh_pulse_1 = np.zeros([len(drag_pulse_0),8])\n",
    "    hh_pulse_1[:, :2] = Z_shift(drag_pulse_0,x[0])\n",
    "    hh_pulse_1[:,4:6] = Z_shift(drag_pulse_1,x[1])\n",
    "    \n",
    "    cnot_pulse_2 = np.zeros([len(GS_pulse),8])\n",
    "    cnot_pulse_2[:,2:4] = Z_shift(GS_pulse,x[2])\n",
    "    \n",
    "    hh_pulse_2 = np.zeros([len(drag_pulse_0),8])\n",
    "    hh_pulse_2[:, :2] = Z_shift(drag_pulse_0,x[3])\n",
    "    hh_pulse_2[:,4:6] = Z_shift(drag_pulse_1,x[4])\n",
    "    \n",
    "    cnot_pulse_3 = np.zeros([len(GS_pulse),8])\n",
    "    cnot_pulse_3[:,2:4] = Z_shift(GS_pulse,x[5])\n",
    "    \n",
    "    total_pulse = np.vstack([cnot_pulse_1,\n",
    "                             hh_pulse_1,\n",
    "                             cnot_pulse_2,\n",
    "                             hh_pulse_2,\n",
    "                             cnot_pulse_3])\n",
    "    return -sim.pulse_average_fidelity(total_pulse, U_target, qubit_indices)\n",
    "\n",
    "bounds = np.pi*np.array([[-1,-1,-1,-1,-1,-1],\n",
    "                         [ 1, 1, 1, 1, 1, 1]])\n",
    "x0 = [np.random.uniform(*bounds[:,i]) for i in range(bounds.shape[1])]\n",
    "x_SWAP,f_SWAP = calibration(x0, SWAP_loss, bounds)\n",
    "print(x_SWAP,f_SWAP)"
   ]
  },
  {
   "cell_type": "code",
   "execution_count": 670,
   "id": "c20e1ff2-6a32-46d0-8132-7f694f0a7642",
   "metadata": {},
   "outputs": [],
   "source": [
    "U_targets = {}\n",
    "\n",
    "U_target = np.eye(num_level**num_transmon,dtype=np.complex128)\n",
    "U_target[qubit_indices] = common_gate('CNOT')\n",
    "U_targets['CNOT'] = U_target\n",
    "\n",
    "U_target = np.eye(num_level**num_transmon,dtype=np.complex128)\n",
    "U_target[qubit_indices] = common_gate('NOTC')@common_gate('CNOT')\n",
    "U_targets['NOTC-CNOT'] = U_target\n",
    "\n",
    "U_target = np.eye(num_level**num_transmon,dtype=np.complex128)\n",
    "U_target[qubit_indices] = common_gate('SWAP')\n",
    "U_targets['SWAP'] = U_target"
   ]
  },
  {
   "cell_type": "code",
   "execution_count": 719,
   "id": "ee67486e-0b64-4011-85e9-c8ad4859b686",
   "metadata": {},
   "outputs": [
    {
     "name": "stdout",
     "output_type": "stream",
     "text": [
      "Max fidelity\n",
      "  CNOT     : 0.9327\n",
      "  NOTC-CNOT: 0.9579\n",
      "  SWAP     : 0.9885\n"
     ]
    },
    {
     "data": {
      "image/png": "[encoded data removed]",
      "text/plain": [
       "<Figure size 720x288 with 1 Axes>"
      ]
     },
     "metadata": {
      "needs_background": "light"
     },
     "output_type": "display_data"
    },
    {
     "name": "stdout",
     "output_type": "stream",
     "text": [
      "\n",
      "Max amp difference: 0.44\n"
     ]
    },
    {
     "data": {
      "image/png": "[encoded data removed]",
      "text/plain": [
       "<Figure size 720x576 with 4 Axes>"
      ]
     },
     "metadata": {
      "needs_background": "light"
     },
     "output_type": "display_data"
    }
   ],
   "source": [
    "channel_labels = ['d0','u01','d1','d10']\n",
    "\n",
    "drag_pulse_0 = DRAG(5, *x_X90I[:-1])\n",
    "drag_pulse_1 = DRAG(5, *x_IX90[:-1])\n",
    "GS_pulse = GaussianSquare(50, *x_CNOT[:-1])\n",
    "\n",
    "cnot_pulse_1 = np.zeros([len(GS_pulse),8])\n",
    "cnot_pulse_1[:,2:4] = Z_shift(GS_pulse,x_SWAP[0])\n",
    "\n",
    "hh_pulse_1 = np.zeros([len(drag_pulse_0),8])\n",
    "hh_pulse_1[:, :2] = Z_shift(drag_pulse_0,x_SWAP[1])\n",
    "hh_pulse_1[:,4:6] = Z_shift(drag_pulse_1,x_SWAP[2])\n",
    "\n",
    "cnot_pulse_2 = np.zeros([len(GS_pulse),8])\n",
    "cnot_pulse_2[:,2:4] = Z_shift(GS_pulse,x_SWAP[3])\n",
    "\n",
    "hh_pulse_2 = np.zeros([len(drag_pulse_0),8])\n",
    "hh_pulse_2[:, :2] = Z_shift(drag_pulse_0,x_SWAP[4])\n",
    "hh_pulse_2[:,4:6] = Z_shift(drag_pulse_1,x_SWAP[5])\n",
    "\n",
    "cnot_pulse_3 = np.zeros([len(GS_pulse),8])\n",
    "cnot_pulse_3[:,2:4] = Z_shift(GS_pulse,x_SWAP[6])\n",
    "\n",
    "total_pulse = np.vstack([cnot_pulse_1,hh_pulse_1,\n",
    "                         cnot_pulse_2,hh_pulse_2,cnot_pulse_3])\n",
    "max_diff = abs(total_pulse[1:,:]-total_pulse[:-1,:]).max()\n",
    "print('Max fidelity')\n",
    "plt.figure(figsize=(10,4))\n",
    "for gate in U_targets:\n",
    "    avg_fids,_,_ = sim.pulse_average_fidelities(total_pulse, U_targets[gate], qubit_indices)\n",
    "    plt.plot(avg_fids,'o-',label=gate)\n",
    "    # plt.plot(NLI(avg_fids),'o-',label=gate)\n",
    "    print(f'  {gate.ljust(9)}: {avg_fids.max():.4f}')\n",
    "plt.xlabel('Time step')\n",
    "plt.ylabel('Fidelity')\n",
    "plt.legend()\n",
    "plt.grid()\n",
    "plt.show()\n",
    "\n",
    "print(f'\\nMax amp difference: {max_diff:.2f}')\n",
    "plot_pulse(total_pulse,channel_labels)"
   ]
  },
  {
   "cell_type": "code",
   "execution_count": 690,
   "id": "4af70072-ce3b-4b9c-a058-1a95aa51495d",
   "metadata": {},
   "outputs": [
    {
     "name": "stdout",
     "output_type": "stream",
     "text": [
      "[ 1.          0.25705079 -0.46631134 -1.33888415]\n",
      "[ 0.71479103  0.24319973 -0.41055427 -0.11303429]\n",
      "[ 0.45272866  1.          0.15123441 -0.15832501]\n",
      "[ 0.40192683  1.60814476  0.50891225 -1.31562956 -2.81163055 -3.13722026\n",
      " -0.74656652]\n"
     ]
    }
   ],
   "source": [
    "print(x_X90I)\n",
    "print(x_IX90)\n",
    "print(x_CNOT)\n",
    "print(x_SWAP)"
   ]
  },
  {
   "cell_type": "markdown",
   "id": "256a8819-5ed8-4593-b1f9-d72afd504b9f",
   "metadata": {},
   "source": [
    "# SWAP gate example"
   ]
  },
  {
   "cell_type": "code",
   "execution_count": 3,
   "id": "df1fd174-a0f0-4e12-8b03-3175b4b2929d",
   "metadata": {},
   "outputs": [
    {
     "name": "stdout",
     "output_type": "stream",
     "text": [
      "-   Noiseless control\n"
     ]
    }
   ],
   "source": [
    "MHz = 1e6\n",
    "GHz = 1e9\n",
    "nanosec = 1e-9\n",
    "\n",
    "# simulator\n",
    "num_transmon = 2\n",
    "num_level = 3\n",
    "qubit_indices,_ = qubit_subspace(num_level,num_transmon)\n",
    "\n",
    "dt = 4*nanosec\n",
    "anharm   = 2*np.pi * np.array([-319.7,-320.2])*MHz\n",
    "drive    = 2*np.pi * np.array([30,300,30,300])*MHz\n",
    "detune   = 2*np.pi * np.array([115,0])*MHz\n",
    "coupling = 2*np.pi * np.array([1.87])*MHz\n",
    "ctrl_noise = 0\n",
    "\n",
    "params = {'num_transmon': num_transmon,\n",
    "          'num_level': num_level,\n",
    "          'dt': dt,\n",
    "          'ctrl': {'anharm': anharm,\n",
    "                   'drive': drive, \n",
    "                   'detune': detune,\n",
    "                   'coupling': coupling,\n",
    "                  },\n",
    "          'ctrl_noise': ctrl_noise,\n",
    "          'sim_frame_rotation': False,\n",
    "         }\n",
    "sim = TransmonSimulator(params)\n",
    "\n",
    "U_target = np.eye(num_level**num_transmon,dtype=np.complex128)\n",
    "U_target[qubit_indices] = common_gate('SWAP')\n",
    "\n",
    "# Saved optimized angles\n",
    "x_X90I = np.array([ 1.        ,  0.25705079, -0.46631134, -1.33888415])\n",
    "x_IX90 = np.array([ 0.71479103,  0.24319973, -0.41055427, -0.11303429])\n",
    "x_CNOT = np.array([ 0.45272866,  1.        ,  0.15123441, -0.15832501])\n",
    "x_SWAP = np.array([ 0.40192683, 1.60814476 ,  0.50891225, -1.31562956, \n",
    "                   -2.81163055, -3.13722026, -0.74656652])"
   ]
  },
  {
   "cell_type": "code",
   "execution_count": 15,
   "id": "16ddc9ce-2b9e-49f3-ac2f-ab9ab68add6a",
   "metadata": {},
   "outputs": [
    {
     "name": "stdout",
     "output_type": "stream",
     "text": [
      "Max fidelity\n",
      "  Average: 0.9885\n"
     ]
    },
    {
     "data": {
      "image/png": "[encoded data removed]",
      "text/plain": [
       "<Figure size 720x144 with 1 Axes>"
      ]
     },
     "metadata": {
      "needs_background": "light"
     },
     "output_type": "display_data"
    },
    {
     "name": "stdout",
     "output_type": "stream",
     "text": [
      "Max amp difference: 0.44\n"
     ]
    },
    {
     "data": {
      "image/png": "[encoded data removed]",
      "text/plain": [
       "<Figure size 720x432 with 4 Axes>"
      ]
     },
     "metadata": {
      "needs_background": "light"
     },
     "output_type": "display_data"
    }
   ],
   "source": [
    "channel_labels = ['d0','u01','d1','d10']\n",
    "\n",
    "drag_pulse_0 = DRAG(5, *x_X90I[:-1])\n",
    "drag_pulse_1 = DRAG(5, *x_IX90[:-1])\n",
    "GS_pulse = GaussianSquare(50, *x_CNOT[:-1])\n",
    "\n",
    "cnot_pulse_1 = np.zeros([len(GS_pulse),8])\n",
    "cnot_pulse_1[:,2:4] = Z_shift(GS_pulse,x_SWAP[0])\n",
    "\n",
    "hh_pulse_1 = np.zeros([len(drag_pulse_0),8])\n",
    "hh_pulse_1[:, :2] = Z_shift(drag_pulse_0,x_SWAP[1])\n",
    "hh_pulse_1[:,4:6] = Z_shift(drag_pulse_1,x_SWAP[2])\n",
    "\n",
    "cnot_pulse_2 = np.zeros([len(GS_pulse),8])\n",
    "cnot_pulse_2[:,2:4] = Z_shift(GS_pulse,x_SWAP[3])\n",
    "\n",
    "hh_pulse_2 = np.zeros([len(drag_pulse_0),8])\n",
    "hh_pulse_2[:, :2] = Z_shift(drag_pulse_0,x_SWAP[4])\n",
    "hh_pulse_2[:,4:6] = Z_shift(drag_pulse_1,x_SWAP[5])\n",
    "\n",
    "cnot_pulse_3 = np.zeros([len(GS_pulse),8])\n",
    "cnot_pulse_3[:,2:4] = Z_shift(GS_pulse,x_SWAP[6])\n",
    "\n",
    "total_pulse = np.vstack([cnot_pulse_1,hh_pulse_1,\n",
    "                         cnot_pulse_2,hh_pulse_2,cnot_pulse_3])\n",
    "\n",
    "max_diff = abs(total_pulse[1:,:]-total_pulse[:-1,:]).max()\n",
    "avg_fids,_,_ = sim.pulse_average_fidelities(total_pulse, U_target, qubit_indices)\n",
    "print('Max fidelity')\n",
    "print(f'  Average: {avg_fids.max():.4f}')\n",
    "\n",
    "plt.figure(figsize=(10,2))\n",
    "plt.plot(avg_fids,'o-',label='Average fidelity')\n",
    "plt.xlim([-int(0.1*len(total_pulse)),len(total_pulse)+int(0.1*len(total_pulse))])\n",
    "plt.xlabel('Time step')\n",
    "plt.ylabel('Fidelity')\n",
    "plt.legend()\n",
    "plt.grid()\n",
    "plt.show()\n",
    "\n",
    "print(f'Max amp difference: {max_diff:.2f}')\n",
    "plot_pulse(total_pulse,channel_labels)"
   ]
  },
  {
   "cell_type": "code",
   "execution_count": 9,
   "id": "5ff12683-a7db-4152-b18d-89b18c7d322a",
   "metadata": {},
   "outputs": [],
   "source": []
  },
  {
   "cell_type": "code",
   "execution_count": null,
   "id": "84df6332-9b5d-4fc7-8e2f-1c11f2fc9406",
   "metadata": {},
   "outputs": [],
   "source": []
  }
 ],
 "metadata": {
  "kernelspec": {
   "display_name": "julius64",
   "language": "python",
   "name": "julius64"
  },
  "language_info": {
   "codemirror_mode": {
    "name": "ipython",
    "version": 3
   },
   "file_extension": ".py",
   "mimetype": "text/x-python",
   "name": "python",
   "nbconvert_exporter": "python",
   "pygments_lexer": "ipython3",
   "version": "3.9.7"
  }
 },
 "nbformat": 4,
 "nbformat_minor": 5
}
